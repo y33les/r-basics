{
 "cells": [
  {
   "cell_type": "markdown",
   "metadata": {},
   "source": [
    "# Basic R from scratch\n",
    "\n",
    "## Phil Yeeles\n",
    "\n",
    "### Last updated: 2020-04-24"
   ]
  },
  {
   "cell_type": "markdown",
   "metadata": {},
   "source": [
    "---\n",
    "\n",
    "<a rel=\"license\" href=\"http://creativecommons.org/licenses/by-nc-sa/4.0/\"><img alt=\"Creative Commons Licence\" style=\"border-width:0\" src=\"https://i.creativecommons.org/l/by-nc-sa/4.0/88x31.png\" /></a><br />This document is licensed under a <a rel=\"license\" href=\"http://creativecommons.org/licenses/by-nc-sa/4.0/\">Creative Commons Attribution-NonCommercial-ShareAlike 4.0 International License</a>.\n",
    "\n",
    "<a rel=\"license\" href=\"http://www.wtfpl.net/txt/copying/\"><img style=\"height: 31px;\" alt=\"WTFPL\" style=\"border-width:0\" src=\"https://duckduckgo.com/i/c0ea7ccc.png\" /></a><br />All R code examples in this work are licensed under the <a rel=\"license\" href=\"http://www.wtfpl.net/txt/copying/\">WTFPL</a>.\n",
    "\n",
    "---"
   ]
  },
  {
   "cell_type": "markdown",
   "metadata": {},
   "source": [
    "Welcome to Phil's R tutorial.  This course assumes absolutely no knowledge of R, nor of programming in general, and is designed as a very gentle introduction to both.\n",
    "\n",
    "Sprinkled throughout the text are examples of code (marked with `In [n]:`) that you might want to try out yourself.  You can copy them into your R interpreter, or you can try them out in the browser by double clicking on them, making any changes you'd like, and pressing **Shift + Enter** to run them.  Try it out here:"
   ]
  },
  {
   "cell_type": "code",
   "execution_count": 1,
   "metadata": {},
   "outputs": [
    {
     "data": {
      "text/html": [
       "10"
      ],
      "text/latex": [
       "10"
      ],
      "text/markdown": [
       "10"
      ],
      "text/plain": [
       "[1] 10"
      ]
     },
     "metadata": {},
     "output_type": "display_data"
    }
   ],
   "source": [
    "7 + 3"
   ]
  },
  {
   "cell_type": "markdown",
   "metadata": {},
   "source": [
    "This course alone **will not** enable you to use R; the only way to truly understand a tool is to use it.  But don't worry: computers are hard to break.  You won't lose anything by having a go, even if it all goes wrong.\n",
    "\n",
    "**Have fun!**"
   ]
  },
  {
   "cell_type": "markdown",
   "metadata": {},
   "source": [
    "---"
   ]
  },
  {
   "cell_type": "markdown",
   "metadata": {},
   "source": [
    "## Table of contents\n",
    "\n",
    "1. [But how do we even _talk_ to computers?](#1-But-how-do-we-even-talk-to-computers?)\n",
    "1. [Installing R](#2-Installing-R)\n",
    "1. [First steps](#3-First-steps)\n",
    "1. [Organising larger projects in RStudio](#4-Organising-larger-projects-in-RStudio)\n",
    "1. [Control flow](#5-Control-flow)\n",
    "1. [Graphics and plotting charts](#6-Graphics-and-plotting-charts)\n",
    "1. [Getting other people to do all the hard work for you (a.k.a. 'using packages')](#7-Getting-other-people-to-do-all-the-hard-work-for-you-(a.k.a.-'using-packages'))\n",
    "1. [Appendix: Other exciting things that you can do with R](#8-Appendix:-Other-exciting-things-that-you-can-do-with-R)"
   ]
  },
  {
   "cell_type": "markdown",
   "metadata": {},
   "source": [
    "---"
   ]
  },
  {
   "cell_type": "markdown",
   "metadata": {},
   "source": [
    "## 1 But how do we even _talk_ to computers?"
   ]
  },
  {
   "cell_type": "markdown",
   "metadata": {},
   "source": [
    "We're all familiar with using a computer for everyday tasks that various software allows the computer to do.  But what about when our task isn't in the set of things that e.g. Microsoft Excel _allows_ the computer to do?  Then, we need to tell the computer how to do what we want it to do for us."
   ]
  },
  {
   "cell_type": "markdown",
   "metadata": {},
   "source": [
    "<figure>\n",
    "    <img src=\"translate.jpg\" alt=\"Figure 1\" title=\"Figure 1\">\n",
    "    <caption><em>Fig. 1: Computers are guaranteed fireman at speaking human languages</em></caption>\n",
    "</figure>"
   ]
  },
  {
   "cell_type": "markdown",
   "metadata": {},
   "source": [
    "Computers aren't very good at speaking human languages _(see Figure 1)_ and we're not great at speaking purely in computer instructions.  So, as a compromise, we invented what is called a **programming language**, which is a human-readable (and -writable) language that can easily be turned into computer instructions.\n",
    "\n",
    "Programming languages can look like this:\n",
    "\n",
    "```c\n",
    "long long int fib(int n) {\n",
    "    int fnow = 0, fnext = 1, tempf;\n",
    "    while(--n>0){\n",
    "        tempf = fnow + fnext;\n",
    "        fnow = fnext;\n",
    "        fnext = tempf;\n",
    "    }\n",
    "    return fnext;\t\n",
    "}\n",
    "```\n",
    "\n",
    "Or this:\n",
    "\n",
    "```scheme\n",
    "(define (fib n)\n",
    "  (if (< n 2)\n",
    "      n\n",
    "      (+ (fib (- n 1))\n",
    "         (fib (- n 2)))))\n",
    "```\n",
    "\n",
    "Or this:\n",
    "\n",
    "```forth\n",
    ": fib ( n -- fib )\n",
    "  0 1 rot 0 ?do  over + swap  loop drop ;\n",
    "```\n",
    "\n",
    "You might not like the style of one particular programming language, or find it hard to read.  Fortuntely for you, there are hundreds of them, so you have lots of styles to choose from.  Unfortunately for you, I'm only going to be showing you one of them, which is called [R](https://www.r-project.org/)."
   ]
  },
  {
   "cell_type": "markdown",
   "metadata": {},
   "source": [
    "### 1.1 Why are we learning R?"
   ]
  },
  {
   "cell_type": "markdown",
   "metadata": {},
   "source": [
    "You can compute any computation in any programming language, but some are designed to make certain tasks easier to explain to the computer.\n",
    "\n",
    "R is a nice language for us to learn because it was developed with data science and statistics in mind.  This means that it's particularly good for telling the computer about things like tables and charts.  Other programming languages make it easier to tell the computer about other things, like real-world electronics or abstract maths.\n",
    "\n",
    "Because R was designed with stats in mind, lots of people all over the world have already written loads of R code that does all kinds of analyses.  This means that when we need to solve a problem, we can normally find some R code that will do the heavy lifting for us, without us having to explain to the computer anew how solve a particular problem.  We'll find out about how to find and use other people's R code <a href=\"#7-Getting-other-people-to-do-all-the-hard-work-for-you-(a.k.a.-'using-packages')\">later on</a>."
   ]
  },
  {
   "cell_type": "markdown",
   "metadata": {},
   "source": [
    "### 1.2 But I already use Excel for my quant work!"
   ]
  },
  {
   "cell_type": "markdown",
   "metadata": {},
   "source": [
    "Great!  And in many cases, Excel will be the best tool for the job for you.  The reason we're learning R is not to get rid of the processes we're already comfortable with; it's to expand our skillset so that, when something is hard to achieve in Excel, you might be able to solve it more easily using R."
   ]
  },
  {
   "cell_type": "markdown",
   "metadata": {},
   "source": [
    "### 1.3 I've seen someone do something exciting with R; are we going to learn how to do that?"
   ]
  },
  {
   "cell_type": "markdown",
   "metadata": {},
   "source": [
    "No.  This tutorial assumes that you have never programmed anything before.  Teaching someone new to programming how to e.g. build a flashy, interactive data dashboard would be like teaching them to fly a plane before they could ride a bike."
   ]
  },
  {
   "cell_type": "markdown",
   "metadata": {},
   "source": [
    "### 1.4 That sounds boring/pointless/shit!"
   ]
  },
  {
   "cell_type": "markdown",
   "metadata": {},
   "source": [
    "It's unglamorous for sure, but even Shakespeare had to learn how to string a sentence together before he could write _Hamlet_."
   ]
  },
  {
   "cell_type": "markdown",
   "metadata": {},
   "source": [
    "[_(Back to top)_](#Basic-R-from-scratch)\n",
    "\n",
    "---"
   ]
  },
  {
   "cell_type": "markdown",
   "metadata": {},
   "source": [
    "## 2 Installing R"
   ]
  },
  {
   "cell_type": "markdown",
   "metadata": {},
   "source": [
    "Before we begin, we need install the [R](https://www.r-project.org/) interpreter (the program that translates what we say in the R language into computer instructions) and [RStudio](https://rstudio.com/) (the nice programming environment that we'll be working in).\n",
    "\n",
    "First, go to the [R download page](https://www.stats.bris.ac.uk/R/) and download R for your platform.  Install it.\n",
    "\n",
    "Next, go to the [RStudio download page](https://rstudio.com/products/rstudio/download/#download) and download RStudio for your platform.  Install it.\n",
    "\n",
    "Open RStudio, go to **File** &rarr; **New Project&hellip;**, click **New Directory** **>** **New project**, enter a project name (e.g. `r-basics` or `r-course`) and click **Create Project**.  Click **File** &rarr; **New File** &rarr; **R Script**, and you're ready to roll!  The screen should now look something like Figure 2.\n",
    "\n",
    "Type `2 + 2` into the bottom-left panel, and press **Enter**.  You should see the following output:"
   ]
  },
  {
   "cell_type": "code",
   "execution_count": 2,
   "metadata": {},
   "outputs": [
    {
     "data": {
      "text/html": [
       "4"
      ],
      "text/latex": [
       "4"
      ],
      "text/markdown": [
       "4"
      ],
      "text/plain": [
       "[1] 4"
      ]
     },
     "metadata": {},
     "output_type": "display_data"
    }
   ],
   "source": [
    "2 + 2"
   ]
  },
  {
   "cell_type": "markdown",
   "metadata": {},
   "source": [
    "<figure>\n",
    "    <img src=\"twoplustwo.png\" alt=\"Figure 2\" title=\"Figure 2\">\n",
    "    <caption><em>Fig. 2: Your first R program in RStudio</em></caption>\n",
    "</figure>"
   ]
  },
  {
   "cell_type": "markdown",
   "metadata": {},
   "source": [
    "**Congratulations!**  You've just written your first computer program in R.  Exhilarating, wasn't it?  Now would be a good time to take a break, get all that excitement out of your system and steel yourself for what's to come."
   ]
  },
  {
   "cell_type": "markdown",
   "metadata": {},
   "source": [
    "[_(Back to top)_](#Basic-R-from-scratch)\n",
    "\n",
    "---"
   ]
  },
  {
   "cell_type": "markdown",
   "metadata": {},
   "source": [
    "## 3 First steps"
   ]
  },
  {
   "cell_type": "markdown",
   "metadata": {},
   "source": [
    "### 3.1 Basic arithmetic"
   ]
  },
  {
   "cell_type": "markdown",
   "metadata": {},
   "source": [
    "At the end of the day, a computer is just a glorified calculator, so that's exactly what we're going to be using it for in the first instance.  For now, we're only going to be using that bottom-left window in RStudio, so keep typing in that.  We'll worry about the rest of it later.\n",
    "\n",
    "Try typing the following code snippets in, remembering to press **Enter** after each one.  You can also try out the code in-browser by double-clicking on each snippet, making any changes you like, and pressing **Shift + Enter** to run it."
   ]
  },
  {
   "cell_type": "code",
   "execution_count": 3,
   "metadata": {},
   "outputs": [
    {
     "data": {
      "text/html": [
       "7"
      ],
      "text/latex": [
       "7"
      ],
      "text/markdown": [
       "7"
      ],
      "text/plain": [
       "[1] 7"
      ]
     },
     "metadata": {},
     "output_type": "display_data"
    }
   ],
   "source": [
    "3 + 4"
   ]
  },
  {
   "cell_type": "code",
   "execution_count": 4,
   "metadata": {},
   "outputs": [
    {
     "data": {
      "text/html": [
       "-2"
      ],
      "text/latex": [
       "-2"
      ],
      "text/markdown": [
       "-2"
      ],
      "text/plain": [
       "[1] -2"
      ]
     },
     "metadata": {},
     "output_type": "display_data"
    }
   ],
   "source": [
    "7 - 9"
   ]
  },
  {
   "cell_type": "code",
   "execution_count": 5,
   "metadata": {},
   "outputs": [
    {
     "data": {
      "text/html": [
       "20"
      ],
      "text/latex": [
       "20"
      ],
      "text/markdown": [
       "20"
      ],
      "text/plain": [
       "[1] 20"
      ]
     },
     "metadata": {},
     "output_type": "display_data"
    }
   ],
   "source": [
    "4 * 5"
   ]
  },
  {
   "cell_type": "code",
   "execution_count": 6,
   "metadata": {},
   "outputs": [
    {
     "data": {
      "text/html": [
       "3.33333333333333"
      ],
      "text/latex": [
       "3.33333333333333"
      ],
      "text/markdown": [
       "3.33333333333333"
      ],
      "text/plain": [
       "[1] 3.333333"
      ]
     },
     "metadata": {},
     "output_type": "display_data"
    }
   ],
   "source": [
    "10 / 3"
   ]
  },
  {
   "cell_type": "markdown",
   "metadata": {},
   "source": [
    "Brackets behave as you would expect:"
   ]
  },
  {
   "cell_type": "code",
   "execution_count": 7,
   "metadata": {},
   "outputs": [
    {
     "data": {
      "text/html": [
       "-4"
      ],
      "text/latex": [
       "-4"
      ],
      "text/markdown": [
       "-4"
      ],
      "text/plain": [
       "[1] -4"
      ]
     },
     "metadata": {},
     "output_type": "display_data"
    }
   ],
   "source": [
    "(2 - 3) * 4"
   ]
  },
  {
   "cell_type": "markdown",
   "metadata": {},
   "source": [
    "As you can see, R is _almost_ as good as a proper calculator, except for the fact that you have to use <code>*</code> and <code>/</code> because our keyboards don't have &times; and &divide; keys on them.\n",
    "\n",
    "We can also do some more arithmetic, like **exponentiation**,"
   ]
  },
  {
   "cell_type": "code",
   "execution_count": 8,
   "metadata": {},
   "outputs": [
    {
     "data": {
      "text/html": [
       "64"
      ],
      "text/latex": [
       "64"
      ],
      "text/markdown": [
       "64"
      ],
      "text/plain": [
       "[1] 64"
      ]
     },
     "metadata": {},
     "output_type": "display_data"
    }
   ],
   "source": [
    "4 ^ 3"
   ]
  },
  {
   "cell_type": "markdown",
   "metadata": {},
   "source": [
    "**integer division** to find a **quotient**,"
   ]
  },
  {
   "cell_type": "code",
   "execution_count": 9,
   "metadata": {},
   "outputs": [
    {
     "data": {
      "text/html": [
       "3"
      ],
      "text/latex": [
       "3"
      ],
      "text/markdown": [
       "3"
      ],
      "text/plain": [
       "[1] 3"
      ]
     },
     "metadata": {},
     "output_type": "display_data"
    }
   ],
   "source": [
    "7 %/% 2"
   ]
  },
  {
   "cell_type": "markdown",
   "metadata": {},
   "source": [
    "and **modulo** to find a **remainder**."
   ]
  },
  {
   "cell_type": "code",
   "execution_count": 10,
   "metadata": {},
   "outputs": [
    {
     "data": {
      "text/html": [
       "1"
      ],
      "text/latex": [
       "1"
      ],
      "text/markdown": [
       "1"
      ],
      "text/plain": [
       "[1] 1"
      ]
     },
     "metadata": {},
     "output_type": "display_data"
    }
   ],
   "source": [
    "7 %% 2"
   ]
  },
  {
   "cell_type": "markdown",
   "metadata": {},
   "source": [
    "Riveting stuff.  But this still doesn't look much better than a calculator, if we're being totally honest.  Let's expand a bit beyond simple arithmetic."
   ]
  },
  {
   "cell_type": "markdown",
   "metadata": {},
   "source": [
    "### 3.2 Giving things names"
   ]
  },
  {
   "cell_type": "markdown",
   "metadata": {},
   "source": [
    "A real cornerstone of computer programming is the concept of the **variable**.  A variable is essentially a little box with a label on it.  We can put different things into the box, and see what's inside it, just by remembering what label we put on it.  This is useful so that we don't have to hold all of the information that our program needs to think about just in our heads.  Here's an example:"
   ]
  },
  {
   "cell_type": "code",
   "execution_count": 11,
   "metadata": {},
   "outputs": [],
   "source": [
    "speed_of_light <- 299792458"
   ]
  },
  {
   "cell_type": "markdown",
   "metadata": {},
   "source": [
    "In R, we use the `<-` operator to assign a value to a name.  You can call your variable anything you like, with the following exceptions (from the R documentation):\n",
    "\n",
    "> \"A syntactically valid name consists of letters, numbers and the dot or underline characters and starts with a letter or the dot not followed by a number. Names such as '.2way' are not valid, and neither are the reserved words.\"\n",
    "\n",
    "Most programmers prefer either to use underscores (e.g. `speed_of_light`) or CamelCase (e.g. `speedOfLight`).\n",
    "\n",
    "> _**N.B.:** Note that your variable names **cannot** contain spaces!_\n",
    "\n",
    "So what can we do once we've defined a variable?  Anything you like!  They behave in exactly the same way as we've already seen."
   ]
  },
  {
   "cell_type": "code",
   "execution_count": 12,
   "metadata": {},
   "outputs": [
    {
     "data": {
      "text/html": [
       "299792459"
      ],
      "text/latex": [
       "299792459"
      ],
      "text/markdown": [
       "299792459"
      ],
      "text/plain": [
       "[1] 299792459"
      ]
     },
     "metadata": {},
     "output_type": "display_data"
    }
   ],
   "source": [
    "speed_of_light + 1"
   ]
  },
  {
   "cell_type": "code",
   "execution_count": 13,
   "metadata": {},
   "outputs": [
    {
     "data": {
      "text/html": [
       "74948114.5"
      ],
      "text/latex": [
       "74948114.5"
      ],
      "text/markdown": [
       "74948114.5"
      ],
      "text/plain": [
       "[1] 74948114"
      ]
     },
     "metadata": {},
     "output_type": "display_data"
    }
   ],
   "source": [
    "speed_of_light / 4"
   ]
  },
  {
   "cell_type": "code",
   "execution_count": 14,
   "metadata": {},
   "outputs": [
    {
     "data": {
      "text/html": [
       "35950207149472702464"
      ],
      "text/latex": [
       "35950207149472702464"
      ],
      "text/markdown": [
       "35950207149472702464"
      ],
      "text/plain": [
       "[1] 3.595021e+19"
      ]
     },
     "metadata": {},
     "output_type": "display_data"
    }
   ],
   "source": [
    "mass <- 400\n",
    "mass * (speed_of_light ^ 2)"
   ]
  },
  {
   "cell_type": "markdown",
   "metadata": {},
   "source": [
    "Variables aren't fixed values, either.  We can replace the contents of the box just by reassigning the variable."
   ]
  },
  {
   "cell_type": "code",
   "execution_count": 15,
   "metadata": {},
   "outputs": [
    {
     "data": {
      "text/html": [
       "5"
      ],
      "text/latex": [
       "5"
      ],
      "text/markdown": [
       "5"
      ],
      "text/plain": [
       "[1] 5"
      ]
     },
     "metadata": {},
     "output_type": "display_data"
    },
    {
     "data": {
      "text/html": [
       "8"
      ],
      "text/latex": [
       "8"
      ],
      "text/markdown": [
       "8"
      ],
      "text/plain": [
       "[1] 8"
      ]
     },
     "metadata": {},
     "output_type": "display_data"
    }
   ],
   "source": [
    "a <- 2\n",
    "a + 3\n",
    "\n",
    "a <- 5\n",
    "a + 3"
   ]
  },
  {
   "cell_type": "markdown",
   "metadata": {},
   "source": [
    "This is especially useful when we have a value that changes &ndash; for example, we might be measuring the speed of a car, or the number of pupils enrolled in a school each year.\n",
    "\n",
    "Again, this is all riveting stuff, I know.  But defining variables is absolutely fundamental to programming, especially as we do more and more complex work."
   ]
  },
  {
   "cell_type": "markdown",
   "metadata": {},
   "source": [
    "### 3.3 Calling functions"
   ]
  },
  {
   "cell_type": "markdown",
   "metadata": {},
   "source": [
    "The main way we interact with data in R isn't through just using the standard arithmetic operations.  To do stuff to our data, we use **functions**.  Functions are like verbs; they do stuff to objects.  In our case, the 'objects' of our sentence will be the **arguments** of the function &ndash; the data that the function acts on.  An example will hopefully clarify:"
   ]
  },
  {
   "cell_type": "code",
   "execution_count": 16,
   "metadata": {},
   "outputs": [
    {
     "data": {
      "text/html": [
       "3"
      ],
      "text/latex": [
       "3"
      ],
      "text/markdown": [
       "3"
      ],
      "text/plain": [
       "[1] 3"
      ]
     },
     "metadata": {},
     "output_type": "display_data"
    }
   ],
   "source": [
    "round(3.24)"
   ]
  },
  {
   "cell_type": "markdown",
   "metadata": {},
   "source": [
    "`round` is a function that takes in a number and spits out that number rounded to the nearest integer.\n",
    "\n",
    "In this case, `round` is the function, and we are **calling** it upon the argument `3.24`.\n",
    "\n",
    "Let's see another example:"
   ]
  },
  {
   "cell_type": "code",
   "execution_count": 17,
   "metadata": {},
   "outputs": [
    {
     "data": {
      "text/html": [
       "31"
      ],
      "text/latex": [
       "31"
      ],
      "text/markdown": [
       "31"
      ],
      "text/plain": [
       "[1] 31"
      ]
     },
     "metadata": {},
     "output_type": "display_data"
    }
   ],
   "source": [
    "max(3, 4, 10, 9, 31, -7)"
   ]
  },
  {
   "cell_type": "markdown",
   "metadata": {},
   "source": [
    "`max` is a function that takes in some numbers and spits out their maximum.\n",
    "\n",
    "In this case, `max` is the function, and we are calling it upon the arguments `3`, `4`, `10`, `9`, `31` and `-7`."
   ]
  },
  {
   "cell_type": "markdown",
   "metadata": {},
   "source": [
    "> _**N.B.:** When we call a function in R, we use put the **function** first, and put its **arguments** in brackets after it, with commas separating the arguments if there are more than one._"
   ]
  },
  {
   "cell_type": "markdown",
   "metadata": {},
   "source": [
    "We can also call functions on variables, like this:"
   ]
  },
  {
   "cell_type": "code",
   "execution_count": 18,
   "metadata": {},
   "outputs": [
    {
     "data": {
      "text/html": [
       "17"
      ],
      "text/latex": [
       "17"
      ],
      "text/markdown": [
       "17"
      ],
      "text/plain": [
       "[1] 17"
      ]
     },
     "metadata": {},
     "output_type": "display_data"
    }
   ],
   "source": [
    "a <- 17\n",
    "b <- 8\n",
    "max(a, b)"
   ]
  },
  {
   "cell_type": "markdown",
   "metadata": {},
   "source": [
    "And on mixtures of variables and plain data as well:"
   ]
  },
  {
   "cell_type": "code",
   "execution_count": 19,
   "metadata": {},
   "outputs": [
    {
     "data": {
      "text/html": [
       "8"
      ],
      "text/latex": [
       "8"
      ],
      "text/markdown": [
       "8"
      ],
      "text/plain": [
       "[1] 8"
      ]
     },
     "metadata": {},
     "output_type": "display_data"
    }
   ],
   "source": [
    "max(4, b)"
   ]
  },
  {
   "cell_type": "markdown",
   "metadata": {},
   "source": [
    "Calling functions like this really is the foundation of how we interact with R, and programming languages in general &ndash; it's a bit like the 'grammar' of programming languages.  You'll be needing this skill as we move forward in order to successfully talk to the computer."
   ]
  },
  {
   "cell_type": "markdown",
   "metadata": {},
   "source": [
    "### 3.3 What happens when it all goes wrong?"
   ]
  },
  {
   "cell_type": "markdown",
   "metadata": {},
   "source": [
    "Nobody's perfect.  Sometimes, you'll write something into the computer which it just doesn't understand.  And that's OK.  If you've made a mistake in your code, R will normally give you a semi-helpful error message to let you know what's wrong.  For example:"
   ]
  },
  {
   "cell_type": "code",
   "execution_count": 20,
   "metadata": {},
   "outputs": [
    {
     "ename": "ERROR",
     "evalue": "Error in eval(expr, envir, enclos): object 'bananas' not found\n",
     "output_type": "error",
     "traceback": [
      "Error in eval(expr, envir, enclos): object 'bananas' not found\nTraceback:\n"
     ]
    }
   ],
   "source": [
    "2 + bananas"
   ]
  },
  {
   "cell_type": "markdown",
   "metadata": {},
   "source": [
    "If this happens, think about what the error message is trying to tell you (or try copying and pasting the error message into a Google search), and see if you can make amends.  Don't worry, R will forgive you.  It always does.  I've done far worse to it than that.\n",
    "\n",
    "If you're still stuck, you can look at the **documentation** for the function you're using.  To do this, we use the `?` operator to search for the official manual for the function in question.  Try it out!"
   ]
  },
  {
   "cell_type": "code",
   "execution_count": null,
   "metadata": {},
   "outputs": [],
   "source": [
    "?max"
   ]
  },
  {
   "cell_type": "markdown",
   "metadata": {},
   "source": [
    "If you want to do something in R, but don't know if there are already any functions that do it, you can use the `??` operator to search the documentation for key words.  It'll then come back to you with a list of functions related to that key word.  Try it!"
   ]
  },
  {
   "cell_type": "code",
   "execution_count": null,
   "metadata": {},
   "outputs": [],
   "source": [
    "??matrices"
   ]
  },
  {
   "cell_type": "markdown",
   "metadata": {},
   "source": [
    "If you're still properly stuck, then a key programming skill that is often overlooked is using [Google](https://www.google.com).  More often than not, someone else has already had the same problem as you, and the solution will be there waiting for you.  If not, see Figure 3.\n",
    "\n",
    "[StackOverflow](https://www.stackoverflow.com) is also a fantastic resource.  It is a public forum where programmers post questions to be answered by other programmers.  Again, more often than not, somebody will have had the same problem as you, and solution will be posted in response to them.  Again, if not, see Figure 3."
   ]
  },
  {
   "cell_type": "markdown",
   "metadata": {},
   "source": [
    "<figure>\n",
    "    <img src=\"xkcd.png\" alt=\"Figure 3\" title=\"Figure 3\">\n",
    "    <caption><em>Fig. 3: Sometimes, there are no answers (via <a href=\"https://xkcd.com/979/\">XKCD</a>)</em></caption>\n",
    "</figure>"
   ]
  },
  {
   "cell_type": "markdown",
   "metadata": {},
   "source": [
    "### 3.4 Things that aren't numbers"
   ]
  },
  {
   "cell_type": "markdown",
   "metadata": {},
   "source": [
    "If we're going to be any better than a calculator, we don't just want to think about individual numbers.  R (and other programming languages) can think about lots of other types of data, too."
   ]
  },
  {
   "cell_type": "markdown",
   "metadata": {},
   "source": [
    "#### 3.4.1 Vectors"
   ]
  },
  {
   "cell_type": "markdown",
   "metadata": {},
   "source": [
    "One very important thing we can do with R is to think about lots of values, rather than just one.  R calls these groups of values **vectors**, and they are super useful.\n",
    "\n",
    "To build a vector, we use the function `c`, because `c` obviously stands for \"vector\".  Let's try it out!"
   ]
  },
  {
   "cell_type": "code",
   "execution_count": null,
   "metadata": {},
   "outputs": [],
   "source": [
    "c(2, 4, 6, 8, 10)"
   ]
  },
  {
   "cell_type": "markdown",
   "metadata": {},
   "source": [
    "We can do lots of things with vectors.  For example, we can use them to do a group of calculations all at once:"
   ]
  },
  {
   "cell_type": "code",
   "execution_count": null,
   "metadata": {},
   "outputs": [],
   "source": [
    "a <- c(2, 4, 6, 8, 10)\n",
    "a * 3"
   ]
  },
  {
   "cell_type": "markdown",
   "metadata": {},
   "source": [
    "This also works for functions:"
   ]
  },
  {
   "cell_type": "code",
   "execution_count": null,
   "metadata": {},
   "outputs": [],
   "source": [
    "a <- c(2.4, 1.9, 4.3, 7.6)\n",
    "round(a)"
   ]
  },
  {
   "cell_type": "markdown",
   "metadata": {},
   "source": [
    "But we don't always want to think about _everything_ in a vector at once; sometimes we only want one element.  We can do this by using `[n]` to specify that we want the `n`th element of the vector:"
   ]
  },
  {
   "cell_type": "code",
   "execution_count": null,
   "metadata": {},
   "outputs": [],
   "source": [
    "a <- c(128, 64, 32, 16, 8, 4, 2)\n",
    "a[4]"
   ]
  },
  {
   "cell_type": "markdown",
   "metadata": {},
   "source": [
    "We can use these just like any other variable."
   ]
  },
  {
   "cell_type": "code",
   "execution_count": null,
   "metadata": {},
   "outputs": [],
   "source": [
    "a <- c(128, 64, 32, 16, 8, 4, 2)\n",
    "a[4] + 3"
   ]
  },
  {
   "cell_type": "markdown",
   "metadata": {},
   "source": [
    "We don't just have to put a number between `[` and `]`; we can also put a vector there to get a new vector with the values at those positions."
   ]
  },
  {
   "cell_type": "code",
   "execution_count": null,
   "metadata": {},
   "outputs": [],
   "source": [
    "a <- c(128, 64, 32, 16, 8, 4, 2)\n",
    "a[c(4,1,7)]"
   ]
  },
  {
   "cell_type": "markdown",
   "metadata": {},
   "source": [
    "And we can even use an expression that returns a number or a vector inside `[` and `]`!"
   ]
  },
  {
   "cell_type": "code",
   "execution_count": null,
   "metadata": {},
   "outputs": [],
   "source": [
    "a <- c(128, 64, 32, 16, 8, 4, 2)\n",
    "a[2+3]"
   ]
  },
  {
   "cell_type": "code",
   "execution_count": null,
   "metadata": {},
   "outputs": [],
   "source": [
    "a <- c(128, 64, 32, 16, 8, 4, 2)\n",
    "a[round(1.72)]"
   ]
  },
  {
   "cell_type": "code",
   "execution_count": null,
   "metadata": {},
   "outputs": [],
   "source": [
    "a <- c(128, 64, 32, 16, 8, 4, 2)\n",
    "b <- c(5,3,2,7)\n",
    "a[sort(b)]"
   ]
  },
  {
   "cell_type": "markdown",
   "metadata": {},
   "source": [
    ">_**N.B.:** As you might expect, `sort` is a function that takes in a vector and returns a new one with the numbers in it sorted from lowest to highest._"
   ]
  },
  {
   "cell_type": "markdown",
   "metadata": {},
   "source": [
    "Two more important ways of creating vectors in R are by using `:` and the `seq` function.  `x:y` returns a sequence of consecutive numbers from `x` to `y`.  `seq(x, y, n)` returns a sequences of numbers from `x` to `y` counting up `n` at a time.  Let's see them in action."
   ]
  },
  {
   "cell_type": "code",
   "execution_count": null,
   "metadata": {},
   "outputs": [],
   "source": [
    "5:10"
   ]
  },
  {
   "cell_type": "code",
   "execution_count": null,
   "metadata": {},
   "outputs": [],
   "source": [
    "seq(3, 43, 5)"
   ]
  },
  {
   "cell_type": "code",
   "execution_count": null,
   "metadata": {},
   "outputs": [],
   "source": [
    "a <- c(128, 64, 32, 16, 8, 4, 2)\n",
    "a[2:5]"
   ]
  },
  {
   "cell_type": "code",
   "execution_count": null,
   "metadata": {},
   "outputs": [],
   "source": [
    "a <- c(128, 64, 32, 16, 8, 4, 2)\n",
    "a[seq(1,7,2)]"
   ]
  },
  {
   "cell_type": "markdown",
   "metadata": {},
   "source": [
    "Finally, we can _exclude_ elements from a vector by prefixing what is between `[` and `]` with `-`.  For example:"
   ]
  },
  {
   "cell_type": "code",
   "execution_count": null,
   "metadata": {},
   "outputs": [],
   "source": [
    "a <- c(128, 64, 32, 16, 8, 4, 2)\n",
    "a[-2]"
   ]
  },
  {
   "cell_type": "code",
   "execution_count": null,
   "metadata": {},
   "outputs": [],
   "source": [
    "a <- c(128, 64, 32, 16, 8, 4, 2)\n",
    "a[-c(3,6,7)]"
   ]
  },
  {
   "cell_type": "code",
   "execution_count": null,
   "metadata": {},
   "outputs": [],
   "source": [
    "a <- c(128, 64, 32, 16, 8, 4, 2)\n",
    "a[-seq(1,7,2)]"
   ]
  },
  {
   "cell_type": "markdown",
   "metadata": {},
   "source": [
    "One final feature to demonstrate for vectors is how we find out how many things are in them.  Do achieve this, we use the function `length`, like so:&ndash;"
   ]
  },
  {
   "cell_type": "code",
   "execution_count": null,
   "metadata": {},
   "outputs": [],
   "source": [
    "a <- seq(50,5000,20)\n",
    "length(a)"
   ]
  },
  {
   "cell_type": "markdown",
   "metadata": {},
   "source": [
    "Phew!  Well, so much for vectors.  You're beginning to build up quite the grammar of R!  But so far, we've still only really thought about numbers.  Don't get me wrong, I love a good number, but there are other things in the world that it's useful to think about."
   ]
  },
  {
   "cell_type": "markdown",
   "metadata": {},
   "source": [
    "#### 3.4.2 Strings"
   ]
  },
  {
   "cell_type": "markdown",
   "metadata": {},
   "source": [
    "And one of those things is text.  Programmers call snippets of text **strings**, and they are marked in R using `\"` and `\"`.  They can contain anything from single characters to multiple paragraphs of text, and can even be empty (which we would write as `\"\"`).  You can do anything with a string that you can do to any other kind of data, such as giving them as arguments to functions, or putting them into vectors.  Let's see some strings in action.\n",
    "\n",
    "We're going to look at seven new functions that are useful for strings.  `print`, `paste` (and `paste0`), `nchar`, `substr`, `tolower` (and `toupper`), `sub` (and `gsub`) and `as.numeric`."
   ]
  },
  {
   "cell_type": "markdown",
   "metadata": {},
   "source": [
    "---"
   ]
  },
  {
   "cell_type": "markdown",
   "metadata": {},
   "source": [
    "`print(s)` simply makes the string s appear on the R console.  This can be really useful to check the values of variables at different points while your program is running."
   ]
  },
  {
   "cell_type": "code",
   "execution_count": 21,
   "metadata": {},
   "outputs": [
    {
     "name": "stdout",
     "output_type": "stream",
     "text": [
      "[1] 4\n",
      "[1] \"something else\"\n"
     ]
    }
   ],
   "source": [
    "a <- 4\n",
    "print(a)\n",
    "a <- \"something else\"\n",
    "print(a)"
   ]
  },
  {
   "cell_type": "markdown",
   "metadata": {},
   "source": [
    "---"
   ]
  },
  {
   "cell_type": "markdown",
   "metadata": {},
   "source": [
    "`paste(s1, s2)` joins together `s1` and `s2` into a new string, separated by spaces.  You can join as many strings as you like."
   ]
  },
  {
   "cell_type": "code",
   "execution_count": 22,
   "metadata": {},
   "outputs": [
    {
     "data": {
      "text/html": [
       "'one two three'"
      ],
      "text/latex": [
       "'one two three'"
      ],
      "text/markdown": [
       "'one two three'"
      ],
      "text/plain": [
       "[1] \"one two three\""
      ]
     },
     "metadata": {},
     "output_type": "display_data"
    }
   ],
   "source": [
    "paste(\"one\", \"two\", \"three\")"
   ]
  },
  {
   "cell_type": "markdown",
   "metadata": {},
   "source": [
    "If you don't want to use spaces, you can specify a new separator by using the optional argument `sep`.  `paste0` is also available as a shortcut to use no separators, instead of having to specify `sep = \"\"`."
   ]
  },
  {
   "cell_type": "code",
   "execution_count": 23,
   "metadata": {},
   "outputs": [
    {
     "data": {
      "text/html": [
       "'one~~~~two~~~~three'"
      ],
      "text/latex": [
       "'one\\textasciitilde{}\\textasciitilde{}\\textasciitilde{}\\textasciitilde{}two\\textasciitilde{}\\textasciitilde{}\\textasciitilde{}\\textasciitilde{}three'"
      ],
      "text/markdown": [
       "'one~~~~two~~~~three'"
      ],
      "text/plain": [
       "[1] \"one~~~~two~~~~three\""
      ]
     },
     "metadata": {},
     "output_type": "display_data"
    }
   ],
   "source": [
    "paste(\"one\", \"two\", \"three\", sep = \"~~~~\")"
   ]
  },
  {
   "cell_type": "code",
   "execution_count": 24,
   "metadata": {},
   "outputs": [
    {
     "data": {
      "text/html": [
       "'onetwothree'"
      ],
      "text/latex": [
       "'onetwothree'"
      ],
      "text/markdown": [
       "'onetwothree'"
      ],
      "text/plain": [
       "[1] \"onetwothree\""
      ]
     },
     "metadata": {},
     "output_type": "display_data"
    }
   ],
   "source": [
    "paste(\"one\", \"two\", \"three\", sep = \"\")"
   ]
  },
  {
   "cell_type": "code",
   "execution_count": 25,
   "metadata": {},
   "outputs": [
    {
     "data": {
      "text/html": [
       "'onetwothree'"
      ],
      "text/latex": [
       "'onetwothree'"
      ],
      "text/markdown": [
       "'onetwothree'"
      ],
      "text/plain": [
       "[1] \"onetwothree\""
      ]
     },
     "metadata": {},
     "output_type": "display_data"
    }
   ],
   "source": [
    "paste0(\"one\", \"two\", \"three\")"
   ]
  },
  {
   "cell_type": "markdown",
   "metadata": {},
   "source": [
    "---"
   ]
  },
  {
   "cell_type": "markdown",
   "metadata": {},
   "source": [
    "`nchar(s)` tells you how many characters are in the string `s`."
   ]
  },
  {
   "cell_type": "code",
   "execution_count": 26,
   "metadata": {},
   "outputs": [
    {
     "data": {
      "text/html": [
       "16"
      ],
      "text/latex": [
       "16"
      ],
      "text/markdown": [
       "16"
      ],
      "text/plain": [
       "[1] 16"
      ]
     },
     "metadata": {},
     "output_type": "display_data"
    }
   ],
   "source": [
    "nchar(\"peas and carrots\")"
   ]
  },
  {
   "cell_type": "markdown",
   "metadata": {},
   "source": [
    "---"
   ]
  },
  {
   "cell_type": "markdown",
   "metadata": {},
   "source": [
    "`substr(s,x,y)` gives you just the `x`th to the `y`th characters of the string `s`."
   ]
  },
  {
   "cell_type": "code",
   "execution_count": 27,
   "metadata": {},
   "outputs": [
    {
     "data": {
      "text/html": [
       "'and c'"
      ],
      "text/latex": [
       "'and c'"
      ],
      "text/markdown": [
       "'and c'"
      ],
      "text/plain": [
       "[1] \"and c\""
      ]
     },
     "metadata": {},
     "output_type": "display_data"
    }
   ],
   "source": [
    "substr(\"peas and carrots\", 6, 10)"
   ]
  },
  {
   "cell_type": "markdown",
   "metadata": {},
   "source": [
    "---"
   ]
  },
  {
   "cell_type": "markdown",
   "metadata": {},
   "source": [
    "`tolower(s)` returns the string `s`, but converted to lower case.  `toupper(s)` does the same, but with upper case."
   ]
  },
  {
   "cell_type": "code",
   "execution_count": 28,
   "metadata": {},
   "outputs": [
    {
     "data": {
      "text/html": [
       "'cfey is a uk education think tank'"
      ],
      "text/latex": [
       "'cfey is a uk education think tank'"
      ],
      "text/markdown": [
       "'cfey is a uk education think tank'"
      ],
      "text/plain": [
       "[1] \"cfey is a uk education think tank\""
      ]
     },
     "metadata": {},
     "output_type": "display_data"
    }
   ],
   "source": [
    "tolower(\"CfEY is a UK education think tank\")"
   ]
  },
  {
   "cell_type": "code",
   "execution_count": 29,
   "metadata": {},
   "outputs": [
    {
     "data": {
      "text/html": [
       "'CFEY IS A UK EDUCATION THINK TANK'"
      ],
      "text/latex": [
       "'CFEY IS A UK EDUCATION THINK TANK'"
      ],
      "text/markdown": [
       "'CFEY IS A UK EDUCATION THINK TANK'"
      ],
      "text/plain": [
       "[1] \"CFEY IS A UK EDUCATION THINK TANK\""
      ]
     },
     "metadata": {},
     "output_type": "display_data"
    }
   ],
   "source": [
    "toupper(\"CfEY is a UK education think tank\")"
   ]
  },
  {
   "cell_type": "markdown",
   "metadata": {},
   "source": [
    "---"
   ]
  },
  {
   "cell_type": "markdown",
   "metadata": {},
   "source": [
    "`sub(f, r, s)` returns the string `s`, but with the first instance of `f` replaced with `r`.  `gsub(f, r, s)` does the same, but replacing _all_ instances of `f` with `r`."
   ]
  },
  {
   "cell_type": "code",
   "execution_count": 30,
   "metadata": {},
   "outputs": [
    {
     "data": {
      "text/html": [
       "'obracadabra'"
      ],
      "text/latex": [
       "'obracadabra'"
      ],
      "text/markdown": [
       "'obracadabra'"
      ],
      "text/plain": [
       "[1] \"obracadabra\""
      ]
     },
     "metadata": {},
     "output_type": "display_data"
    }
   ],
   "source": [
    "sub(\"a\", \"o\", \"abracadabra\")"
   ]
  },
  {
   "cell_type": "code",
   "execution_count": 31,
   "metadata": {},
   "outputs": [
    {
     "data": {
      "text/html": [
       "'obrocodobro'"
      ],
      "text/latex": [
       "'obrocodobro'"
      ],
      "text/markdown": [
       "'obrocodobro'"
      ],
      "text/plain": [
       "[1] \"obrocodobro\""
      ]
     },
     "metadata": {},
     "output_type": "display_data"
    }
   ],
   "source": [
    "gsub(\"a\", \"o\", \"abracadabra\")"
   ]
  },
  {
   "cell_type": "markdown",
   "metadata": {},
   "source": [
    "---"
   ]
  },
  {
   "cell_type": "markdown",
   "metadata": {},
   "source": [
    "`as.numeric(s)` tries to interpret the string `s` as a number.  This is useful if you have a number stored in a string that you want to use, because R can't just _know_ when you want numbers in text to be treated just as text, and when you want them to be treated as data."
   ]
  },
  {
   "cell_type": "code",
   "execution_count": 32,
   "metadata": {},
   "outputs": [
    {
     "ename": "ERROR",
     "evalue": "Error in 2 + \"3\": non-numeric argument to binary operator\n",
     "output_type": "error",
     "traceback": [
      "Error in 2 + \"3\": non-numeric argument to binary operator\nTraceback:\n"
     ]
    }
   ],
   "source": [
    "2 + \"3\""
   ]
  },
  {
   "cell_type": "code",
   "execution_count": null,
   "metadata": {},
   "outputs": [],
   "source": [
    "2 + as.numeric(\"3\")"
   ]
  },
  {
   "cell_type": "markdown",
   "metadata": {},
   "source": [
    "---"
   ]
  },
  {
   "cell_type": "markdown",
   "metadata": {},
   "source": [
    "Great stuff!  Now that we're happy working with numbers, text and vectors, let's start looking at some more interesting (and useful in our line of work) kinds of data."
   ]
  },
  {
   "cell_type": "markdown",
   "metadata": {},
   "source": [
    "#### 3.4.3 Data frames"
   ]
  },
  {
   "cell_type": "markdown",
   "metadata": {},
   "source": [
    "A really useful structure in R is the **data frame**.  It's basically a table!  To create a data frame, you just have to call the function `data.frame` with a list of named vectors.  Here's an example:&ndash;"
   ]
  },
  {
   "cell_type": "code",
   "execution_count": null,
   "metadata": {},
   "outputs": [],
   "source": [
    "myFrame <- data.frame(\n",
    "             ColumnOfRandomNumbers = c(53, 42, 95, 68),\n",
    "             AnotherOneButWithText = c(\"foo\", \"bar\", \"baz\", \"quux\")\n",
    "           )\n",
    "\n",
    "myFrame"
   ]
  },
  {
   "cell_type": "markdown",
   "metadata": {},
   "source": [
    "Data within the data frame can then be accessed either by giving a row and column number `[x,y]` like with vectors, or you can use the column names with the `$` operator, like so:&ndash;"
   ]
  },
  {
   "cell_type": "code",
   "execution_count": null,
   "metadata": {},
   "outputs": [],
   "source": [
    "myFrame[3,2]"
   ]
  },
  {
   "cell_type": "code",
   "execution_count": null,
   "metadata": {},
   "outputs": [],
   "source": [
    "myFrame$ColumnOfRandomNumbers"
   ]
  },
  {
   "cell_type": "markdown",
   "metadata": {},
   "source": [
    "If you want a whole row or column, you can just leave out one of the numbers."
   ]
  },
  {
   "cell_type": "code",
   "execution_count": null,
   "metadata": {},
   "outputs": [],
   "source": [
    "myFrame[1,]"
   ]
  },
  {
   "cell_type": "code",
   "execution_count": null,
   "metadata": {},
   "outputs": [],
   "source": [
    "myFrame[,1]"
   ]
  },
  {
   "cell_type": "markdown",
   "metadata": {},
   "source": [
    "You can put any objects you like into a data table, not just numbers and strings!  Try it out for yourself.\n",
    "\n",
    "If you need access to the names of the columns and rows, you can call the functions `rownames` and `colnames` to get them."
   ]
  },
  {
   "cell_type": "code",
   "execution_count": null,
   "metadata": {},
   "outputs": [],
   "source": [
    "colnames(myFrame)"
   ]
  },
  {
   "cell_type": "code",
   "execution_count": null,
   "metadata": {},
   "outputs": [],
   "source": [
    "rownames(myFrame)"
   ]
  },
  {
   "cell_type": "markdown",
   "metadata": {},
   "source": [
    "`rownames` and `colnames` can also be used to _set_ the names of the columns and rows using the `<-` assignment operator."
   ]
  },
  {
   "cell_type": "code",
   "execution_count": null,
   "metadata": {},
   "outputs": [],
   "source": [
    "myFrame2 <- myFrame # Make a copy of myFrame called myFrame2\n",
    "\n",
    "colnames(myFrame2) <- c(\"NewFirstColumnName\", \"NewSecondColumnName\")\n",
    "rownames(myFrame2) <- c(\"NewFirstRowName\", \"NewSecondRowName\", \"NewThirdRowName\", \"NewFourthRowName\")\n",
    "myFrame2"
   ]
  },
  {
   "cell_type": "markdown",
   "metadata": {},
   "source": [
    "> _**N.B.:** You can use the `#` character to tell R not to read the rest of the line.  Programmers use this to write **comments** to document what's going on in their code.  This is helpful both for the programmer, and for anyone else who might be looking at, working on or adapting their code._"
   ]
  },
  {
   "cell_type": "markdown",
   "metadata": {},
   "source": [
    "And then we can use the new names to access the data."
   ]
  },
  {
   "cell_type": "code",
   "execution_count": null,
   "metadata": {},
   "outputs": [],
   "source": [
    "myFrame2$NewSecondColumnName"
   ]
  },
  {
   "cell_type": "markdown",
   "metadata": {},
   "source": [
    "##### But what are data frames actually useful for?"
   ]
  },
  {
   "cell_type": "markdown",
   "metadata": {},
   "source": [
    "One of the reasons we care so much about data frames (apart from the fact that tables are just generally very useful) is because loads of functions use and return them.  Two that you're likely to use a lot are `read.csv` and `read.xlsx` (which is part of the `openxlsx` package).\n",
    "\n",
    "`read.csv`, as you might guess, is a function that reads in a CSV file and stores the contents in a data frame.\n",
    "\n",
    "> _**N.B.:** If the CSV file is not in the same folder as your R program, you'll need to write in the whole file path to where it lives._"
   ]
  },
  {
   "cell_type": "code",
   "execution_count": null,
   "metadata": {},
   "outputs": [],
   "source": [
    "read.csv(\"example.csv\")"
   ]
  },
  {
   "cell_type": "markdown",
   "metadata": {},
   "source": [
    "If you have row names, you can add the `row.names` argument to say which column contains the row names."
   ]
  },
  {
   "cell_type": "code",
   "execution_count": null,
   "metadata": {},
   "outputs": [],
   "source": [
    "read.csv(\"example-rows.csv\", row.names = 1)"
   ]
  },
  {
   "cell_type": "markdown",
   "metadata": {},
   "source": [
    "`read.xlsx`, similarly, reads an Excel XLSX file into a data frame.  If you have row names in the first column, you can set the `rowNames` argument to `TRUE`.  The only catch here is that, because `read.xlsx` isn't part of the core R language, you have tell R where to get it from.  It's in the [`openxlsx`](https://cran.r-project.org/web/packages/openxlsx/index.html) package, so we write `openxlsx::read.xlsx` so that R knows where `read.xlsx` lives.\n",
    "\n",
    "> _**N.B.:** If the Excel file is not in the same folder as your R program, you'll need to write in the whole file path to where it lives._"
   ]
  },
  {
   "cell_type": "code",
   "execution_count": null,
   "metadata": {},
   "outputs": [],
   "source": [
    "openxlsx::read.xlsx(\"example.xlsx\")"
   ]
  },
  {
   "cell_type": "code",
   "execution_count": null,
   "metadata": {},
   "outputs": [],
   "source": [
    "openxlsx::read.xlsx(\"example-rows.xlsx\", rowNames = TRUE)"
   ]
  },
  {
   "cell_type": "markdown",
   "metadata": {},
   "source": [
    "> _**N.B.:** You might need to run `install.packages(\"openxlsx\")` before you can use this for the first time!_\n",
    "\n",
    "If you're going to be using `read.xlsx` lots of times (or any of the other functions in the [`openxlsx`](https://cran.r-project.org/web/packages/openxlsx/index.html) package), you can skip the `openxlsx::` prefix by loading the whole package into your program by calling the `library` function."
   ]
  },
  {
   "cell_type": "code",
   "execution_count": null,
   "metadata": {},
   "outputs": [],
   "source": [
    "library(openxlsx)\n",
    "read.xlsx(\"example.xlsx\")"
   ]
  },
  {
   "cell_type": "markdown",
   "metadata": {},
   "source": [
    "You can then use these data frames in exactly the same way as you would when you construct your own data frame like we did above."
   ]
  },
  {
   "cell_type": "code",
   "execution_count": 33,
   "metadata": {},
   "outputs": [
    {
     "data": {
      "text/html": [
       "'baz'"
      ],
      "text/latex": [
       "'baz'"
      ],
      "text/markdown": [
       "'baz'"
      ],
      "text/plain": [
       "[1] \"baz\""
      ]
     },
     "metadata": {},
     "output_type": "display_data"
    },
    {
     "data": {
      "text/html": [
       "<style>\n",
       ".list-inline {list-style: none; margin:0; padding: 0}\n",
       ".list-inline>li {display: inline-block}\n",
       ".list-inline>li:not(:last-child)::after {content: \"\\00b7\"; padding: 0 .5ex}\n",
       "</style>\n",
       "<ol class=list-inline><li>2</li><li>4</li><li>6</li><li>8</li><li>10</li></ol>\n"
      ],
      "text/latex": [
       "\\begin{enumerate*}\n",
       "\\item 2\n",
       "\\item 4\n",
       "\\item 6\n",
       "\\item 8\n",
       "\\item 10\n",
       "\\end{enumerate*}\n"
      ],
      "text/markdown": [
       "1. 2\n",
       "2. 4\n",
       "3. 6\n",
       "4. 8\n",
       "5. 10\n",
       "\n",
       "\n"
      ],
      "text/plain": [
       "[1]  2  4  6  8 10"
      ]
     },
     "metadata": {},
     "output_type": "display_data"
    }
   ],
   "source": [
    "myFrame <- openxlsx::read.xlsx(\"example-rows.xlsx\", rowNames = TRUE)\n",
    "myFrame[3,2]\n",
    "myFrame$Example.column.1"
   ]
  },
  {
   "cell_type": "markdown",
   "metadata": {},
   "source": [
    "> _**N.B.:** If you need to save some data back out to a CSV or an Excel file, you can use `write.csv` or `openxlsx::write.xlsx` to do so.  Why not try calling `?write.csv` or `?openxlsx::write.xlsx` to find out how these functions work?_"
   ]
  },
  {
   "cell_type": "markdown",
   "metadata": {},
   "source": [
    "You're now pretty familiar with most of the common data structures in R.  **Congratulations!**  This is very much only scratching the surface of the many, many types of data that R can work with, but it's enough for you to get started.  We've got a couple more bits to tack on to the end of this before we start actually _using_ all of these data types, but we're pretty much there."
   ]
  },
  {
   "cell_type": "markdown",
   "metadata": {},
   "source": [
    "#### 3.4.4 Functions"
   ]
  },
  {
   "cell_type": "markdown",
   "metadata": {},
   "source": [
    "One more thing which is very important to know is how we talk about our _own_ functions, not just the ones that are built into R.  To talk about functions, you just have to call the function `function`.  This means that we can write our own functions, which is pretty much the essence of writing computer programs &ndash; writing custom functions to do the specific task that you need to do.  Here's a simple example&ndash;"
   ]
  },
  {
   "cell_type": "code",
   "execution_count": 34,
   "metadata": {},
   "outputs": [
    {
     "data": {
      "text/html": [
       "18"
      ],
      "text/latex": [
       "18"
      ],
      "text/markdown": [
       "18"
      ],
      "text/plain": [
       "[1] 18"
      ]
     },
     "metadata": {},
     "output_type": "display_data"
    }
   ],
   "source": [
    "# f is a function that adds twice its first argument to\n",
    "# a third of its second argument\n",
    "f <- function(x, y) {\n",
    "       (2 * x) + (y / 3)\n",
    "     }\n",
    "\n",
    "f(7, 12)"
   ]
  },
  {
   "cell_type": "markdown",
   "metadata": {},
   "source": [
    "> _**N.B.:** In case you missed it above, you can use the `#` character to tell R not to read the rest of the line.  Programmers use this to write **comments** to document what's going on in their code.  This is helpful both for the programmer, and for anyone else who might be looking at, working on or adapting their code._"
   ]
  },
  {
   "cell_type": "markdown",
   "metadata": {},
   "source": [
    "We can then use those functions in other data structures, or as arguments to other functions.  A good use of this is to apply a function to a whole load of data using `sapply`, like so:&ndash;"
   ]
  },
  {
   "cell_type": "code",
   "execution_count": 35,
   "metadata": {},
   "outputs": [
    {
     "data": {
      "text/html": [
       "<table>\n",
       "<caption>A matrix: 4 × 2 of type dbl</caption>\n",
       "<thead>\n",
       "\t<tr><th scope=col>col1</th><th scope=col>col2</th></tr>\n",
       "</thead>\n",
       "<tbody>\n",
       "\t<tr><td> 4</td><td> 6</td></tr>\n",
       "\t<tr><td> 8</td><td>12</td></tr>\n",
       "\t<tr><td>12</td><td>18</td></tr>\n",
       "\t<tr><td>16</td><td>24</td></tr>\n",
       "</tbody>\n",
       "</table>\n"
      ],
      "text/latex": [
       "A matrix: 4 × 2 of type dbl\n",
       "\\begin{tabular}{ll}\n",
       " col1 & col2\\\\\n",
       "\\hline\n",
       "\t  4 &  6\\\\\n",
       "\t  8 & 12\\\\\n",
       "\t 12 & 18\\\\\n",
       "\t 16 & 24\\\\\n",
       "\\end{tabular}\n"
      ],
      "text/markdown": [
       "\n",
       "A matrix: 4 × 2 of type dbl\n",
       "\n",
       "| col1 | col2 |\n",
       "|---|---|\n",
       "|  4 |  6 |\n",
       "|  8 | 12 |\n",
       "| 12 | 18 |\n",
       "| 16 | 24 |\n",
       "\n"
      ],
      "text/plain": [
       "     col1 col2\n",
       "[1,]  4    6  \n",
       "[2,]  8   12  \n",
       "[3,] 12   18  \n",
       "[4,] 16   24  "
      ]
     },
     "metadata": {},
     "output_type": "display_data"
    }
   ],
   "source": [
    "d <- data.frame(\n",
    "       col1 = c(2, 4, 6, 8),\n",
    "       col2 = c(3, 6, 9, 12)\n",
    "     )\n",
    "\n",
    "f <- function(x) {x * 2}\n",
    "\n",
    "sapply(d, f)"
   ]
  },
  {
   "cell_type": "markdown",
   "metadata": {},
   "source": [
    "#### 3.4.5 Special values"
   ]
  },
  {
   "cell_type": "markdown",
   "metadata": {},
   "source": [
    "There are a number of special values in R which don't really fit into any other category.\n",
    "\n",
    "- `TRUE` and `FALSE` are values that represent binary conditions that are either true or false\n",
    "- `NA` refers to a value that is missing, or does not exist\n",
    "- `NULL` refers to an empty object (e.g. a vector with no items in it or a string with no characters in it)\n",
    "- `NaN` refers to things that are **Not a Number**, and is what you get if you try to calculate 0 &divide; 0 in R\n",
    "- `Inf` and `-Inf` represent positive and negative infinity respectively, and are what you get if you try to calculate e.g. 3 &divide; 0 in R"
   ]
  },
  {
   "cell_type": "code",
   "execution_count": 36,
   "metadata": {},
   "outputs": [
    {
     "data": {
      "text/html": [
       "TRUE"
      ],
      "text/latex": [
       "TRUE"
      ],
      "text/markdown": [
       "TRUE"
      ],
      "text/plain": [
       "[1] TRUE"
      ]
     },
     "metadata": {},
     "output_type": "display_data"
    }
   ],
   "source": [
    "1 < 2"
   ]
  },
  {
   "cell_type": "code",
   "execution_count": 37,
   "metadata": {},
   "outputs": [
    {
     "data": {
      "text/html": [
       "FALSE"
      ],
      "text/latex": [
       "FALSE"
      ],
      "text/markdown": [
       "FALSE"
      ],
      "text/plain": [
       "[1] FALSE"
      ]
     },
     "metadata": {},
     "output_type": "display_data"
    }
   ],
   "source": [
    "1 > 2 "
   ]
  },
  {
   "cell_type": "code",
   "execution_count": 38,
   "metadata": {},
   "outputs": [
    {
     "data": {
      "text/html": [
       "&lt;NA&gt;"
      ],
      "text/latex": [
       "<NA>"
      ],
      "text/markdown": [
       "&lt;NA&gt;"
      ],
      "text/plain": [
       "[1] NA"
      ]
     },
     "metadata": {},
     "output_type": "display_data"
    }
   ],
   "source": [
    "a <- c(2, 4, 6, 8)\n",
    "a[5]"
   ]
  },
  {
   "cell_type": "code",
   "execution_count": 39,
   "metadata": {},
   "outputs": [
    {
     "data": {
      "text/plain": [
       "NULL"
      ]
     },
     "metadata": {},
     "output_type": "display_data"
    }
   ],
   "source": [
    "c()"
   ]
  },
  {
   "cell_type": "code",
   "execution_count": 40,
   "metadata": {},
   "outputs": [
    {
     "data": {
      "text/html": [
       "NaN"
      ],
      "text/latex": [
       "NaN"
      ],
      "text/markdown": [
       "NaN"
      ],
      "text/plain": [
       "[1] NaN"
      ]
     },
     "metadata": {},
     "output_type": "display_data"
    }
   ],
   "source": [
    "0 / 0"
   ]
  },
  {
   "cell_type": "code",
   "execution_count": 41,
   "metadata": {},
   "outputs": [
    {
     "data": {
      "text/html": [
       "Inf"
      ],
      "text/latex": [
       "Inf"
      ],
      "text/markdown": [
       "Inf"
      ],
      "text/plain": [
       "[1] Inf"
      ]
     },
     "metadata": {},
     "output_type": "display_data"
    }
   ],
   "source": [
    "3 / 0"
   ]
  },
  {
   "cell_type": "code",
   "execution_count": 42,
   "metadata": {},
   "outputs": [
    {
     "data": {
      "text/html": [
       "-Inf"
      ],
      "text/latex": [
       "-Inf"
      ],
      "text/markdown": [
       "-Inf"
      ],
      "text/plain": [
       "[1] -Inf"
      ]
     },
     "metadata": {},
     "output_type": "display_data"
    }
   ],
   "source": [
    "-3 / 0"
   ]
  },
  {
   "cell_type": "markdown",
   "metadata": {},
   "source": [
    "**Congratulations** on making it this far!  You now have a pretty decent overview of how R thinks about data, and how to get data into and out of R in different forms.  Next up, we'll be thinking about **control flow**, or how computer programs don't necessarily have to execute one instruction after another.\n",
    "\n",
    "Before that, though, it's worth taking a quick detour to think about how we structure larger projects in RStudio, as this is where concepts like control flow become much more useful."
   ]
  },
  {
   "cell_type": "markdown",
   "metadata": {},
   "source": [
    "[_(Back to top)_](#Basic-R-from-scratch)\n",
    "\n",
    "---"
   ]
  },
  {
   "cell_type": "markdown",
   "metadata": {},
   "source": [
    "## 4 Organising larger projects in RStudio"
   ]
  },
  {
   "cell_type": "markdown",
   "metadata": {},
   "source": [
    "Before continuing with any more programming concepts, it would be useful to think about maybe moving out of that tiny bottom-left corner of RStudio.\n",
    "\n",
    "You'll probably have noticed the larger, blank panel in the top left, as well as the stuff on the right-hand side.  These are all useful when you're writing a whole program, rather than just typing out a couple of individual commands into the R interpreter.  Let's have a look at them now."
   ]
  },
  {
   "cell_type": "markdown",
   "metadata": {},
   "source": [
    "<figure>\n",
    "    <img src=\"rstudio.png\" alt=\"Figure 4\" title=\"Figure 4\">\n",
    "    <caption><em>Fig. 4: RStudio's four main panels</em></caption>\n",
    "</figure>"
   ]
  },
  {
   "cell_type": "markdown",
   "metadata": {},
   "source": [
    "You're already familiar with the bottom-left panel, which I've labelled \"**Interpreter**\".  This is where you can just type commands into R for an instant response, and it is super useful for trying things out, playing around with data and testing bits of the code that you've written into the top-left panel.\n",
    "\n",
    "The top-left panel, which I've labelled \"**Source file editor**\", is where we edit **source files**, which are text files containing R code to be run.  It's a bit like Notepad, but embedded into RStudio and with many more helpful features like colour-coding what you've written (which we call **syntax highlighting**).  When we write a program that we want to keep, we write code into a source file which can be run again and again; this way, we don't have to remember what we did last time whenever we want to get R to do something.  You can run all the code you've written into the source file you're working on by clicking on the **Source** button, which will load it all into the interpreter.  If you just want to run part of code, just highlight the bit that you want to run and click on the **Run** button, which will just load that bit into the interpreter.\n",
    "\n",
    "Your project might have just one source file, or you might group related code into separate files.  The bottom-right panel, which I've labelled \"**Project file browser**\", shows all of the files in your project folder.  You can open them in the source file editor by double-clicking on them.\n",
    "\n",
    "> _**N.B.:** If you want your program to load the code from another source file, use the `source` function, like so:&ndash;_"
   ]
  },
  {
   "cell_type": "code",
   "execution_count": 43,
   "metadata": {},
   "outputs": [
    {
     "name": "stdout",
     "output_type": "stream",
     "text": [
      "[1] \"The code for this is in a separate file!\"\n"
     ]
    }
   ],
   "source": [
    "source(\"source-demo.R\")"
   ]
  },
  {
   "cell_type": "markdown",
   "metadata": {},
   "source": [
    "The final panel on the top-right, which I've labelled \"**Data that R knows about**\", contains a list of all of the things that you've defined: data, variables, functions &ndash; if you've defined it, it's in there.  It not only lists the things that R knows about, but also lets you explore them.  If you've defined a data frame, this panel will let you have a look at what's inside it in a handy table format.\n",
    "\n",
    "Now that we're a bit happier with how projects are organised, and how RStudio helps you to navigate them, let's get back down to some programming and think about yet another absolutely crucial concept: **control flow**."
   ]
  },
  {
   "cell_type": "markdown",
   "metadata": {},
   "source": [
    "[_(Back to top)_](#Basic-R-from-scratch)\n",
    "\n",
    "---"
   ]
  },
  {
   "cell_type": "markdown",
   "metadata": {},
   "source": [
    "## 5 Control flow"
   ]
  },
  {
   "cell_type": "markdown",
   "metadata": {},
   "source": [
    "Now that we know how to write whole programs, rather than just running a few commands in isolation, we need to think about _how_ our programs execute.  We call this **control flow**, and it covers when we do and don't want things to happen, as well as when we want things to happen lots of times."
   ]
  },
  {
   "cell_type": "markdown",
   "metadata": {},
   "source": [
    "### 5.1 Conditional operations and logic"
   ]
  },
  {
   "cell_type": "markdown",
   "metadata": {},
   "source": [
    "Sometimes, we _don't_ want the computer to do stuff.  This is a really important part of computer programming; we want to get things to happen only when certain conditions are met.  To do this, we use the `if` function to set the conditions for certain things to happen.  When we give `if` a condition that evaluates to `TRUE`, it runs the code between the curly braces `{`&hellip;`}`.  Notice how in the below example, only one of the calls to `print` gets executed."
   ]
  },
  {
   "cell_type": "code",
   "execution_count": 44,
   "metadata": {},
   "outputs": [
    {
     "name": "stdout",
     "output_type": "stream",
     "text": [
      "[1] \"4 is greater than 3\"\n"
     ]
    }
   ],
   "source": [
    "if(1 > 2) {print(\"1 is greater than 2\")}\n",
    "if(4 > 3) {print(\"4 is greater than 3\")}"
   ]
  },
  {
   "cell_type": "markdown",
   "metadata": {},
   "source": [
    "We can also use the keyword `else` to set up what happens if an `if` condition is _not_ met:&ndash;"
   ]
  },
  {
   "cell_type": "code",
   "execution_count": 45,
   "metadata": {},
   "outputs": [
    {
     "name": "stdout",
     "output_type": "stream",
     "text": [
      "[1] \"1 is not greater than 2\"\n"
     ]
    }
   ],
   "source": [
    "if(1 > 2) {\n",
    "  print(\"1 is greater than 2\")\n",
    "} else {\n",
    "  print(\"1 is not greater than 2\")\n",
    "}"
   ]
  },
  {
   "cell_type": "markdown",
   "metadata": {},
   "source": [
    "We can also use `else if` to set up multiple alternative conditions:&ndash;"
   ]
  },
  {
   "cell_type": "code",
   "execution_count": 46,
   "metadata": {},
   "outputs": [
    {
     "name": "stdout",
     "output_type": "stream",
     "text": [
      "[1] \"a is less than 8\"\n"
     ]
    }
   ],
   "source": [
    "a <- 7\n",
    "\n",
    "if(a < 4) {\n",
    "  print(\"a is less than 4\")\n",
    "} else if(a < 8) {\n",
    "  print(\"a is less than 8\")\n",
    "} else if(a < 16) {\n",
    "  print(\"a is less than 16\")\n",
    "} else {\n",
    "  print(\"a is greater than 16\")\n",
    "}"
   ]
  },
  {
   "cell_type": "markdown",
   "metadata": {},
   "source": [
    "Notice how, once a condition in this chain is met, it stops.  If you want multiple things to happen, don't use `else`; just use multiple `if` statements."
   ]
  },
  {
   "cell_type": "code",
   "execution_count": 47,
   "metadata": {},
   "outputs": [
    {
     "name": "stdout",
     "output_type": "stream",
     "text": [
      "[1] \"a is less than 8\"\n",
      "[1] \"a is less than 16\"\n"
     ]
    }
   ],
   "source": [
    "a <- 7\n",
    "\n",
    "if(a < 4) {\n",
    "  print(\"a is less than 4\")\n",
    "}\n",
    "if(a < 8) {\n",
    "  print(\"a is less than 8\")\n",
    "}\n",
    "if(a < 16) {\n",
    "  print(\"a is less than 16\")\n",
    "}"
   ]
  },
  {
   "cell_type": "markdown",
   "metadata": {},
   "source": [
    "#### 5.1.1 Logic functions"
   ]
  },
  {
   "cell_type": "markdown",
   "metadata": {},
   "source": [
    "There are a number of important functions that evaluate to `TRUE` or `FALSE` which you can use in your `if` statements.  Here are some of the basics:&ndash;\n",
    "\n",
    "|Function          |Meaning                            |\n",
    "|:----------------:|:---------------------------------:|\n",
    "|`a == b`          |`a` is equal to `b`                |\n",
    "|`a != b`          |`a` is not equal to `b`            |\n",
    "|`a > b`           |`a` is greater than `b`            |\n",
    "|`a >= b`          |`a` is greater than or equal to `b`|\n",
    "|`a < b`           |`a` is less than `b`               |\n",
    "|`a <= b`          |`a` is less than or equal to `b`   |\n",
    "|`a %in% b`        |`a` is a member of `b`             |\n",
    "|`is.numeric(a)`   |`a` is a number                    |\n",
    "|`is.character(a)` |`a` is a string                    |\n",
    "|`is.vector(a)`    |`a` is a vector                    |\n",
    "|`is.data.frame(a)`|`a` is a data frame                |\n",
    "|`is.na(a)`        |`a` is `NA`                        |\n",
    "|`is.nan(a)`       |`a` is `NaN`                       |\n",
    "|`is.null(a)`      |`a` is `NULL`                      |"
   ]
  },
  {
   "cell_type": "markdown",
   "metadata": {},
   "source": [
    "####  5.1.2 Boolean logic"
   ]
  },
  {
   "cell_type": "markdown",
   "metadata": {},
   "source": [
    "Another key computer-science concept is that of Boolean logic (named after mathematician George Boole), which is how we combine things than evaluate to `TRUE` and `FALSE`.  There are four operations that you need to know about here: **and**, **or**, **not** and **exclusive or** (called \"**xor**\").  We can use what are called **truth tables** to show how each operation behaves.\n",
    "\n",
    "- `a` **and** `b` is only `TRUE` is both `a` is `TRUE` and `b` is `TRUE`\n",
    "\n",
    "|**and**||`TRUE` |`FALSE`|\n",
    "|:-----:||:-----:|:-----:|\n",
    "|`TRUE` ||`TRUE` |`FALSE`|\n",
    "|`FALSE`||`FALSE`|`FALSE`|\n",
    "\n",
    "- `a` **or** `b` is `TRUE` if at least `a` is `TRUE` or `b` is `TRUE`\n",
    "\n",
    "|**or** ||`TRUE` |`FALSE`|\n",
    "|:-----:||:-----:|:-----:|\n",
    "|`TRUE` ||`TRUE` |`TRUE` |\n",
    "|`FALSE`||`TRUE` |`FALSE`|\n",
    "\n",
    "- **not** `a` is `TRUE` if `a` is `FALSE`, and _vice versa_\n",
    "\n",
    "|**not**||`TRUE` |`FALSE`|\n",
    "|:-----:||:-----:|:-----:|\n",
    "|       ||`FALSE`|`TRUE` |\n",
    "\n",
    "- `a` **xor** `b` is `TRUE` if either `a` is `TRUE` or `b` is `TRUE`, but not both\n",
    "\n",
    "|**xor**||`TRUE` |`FALSE`|\n",
    "|:-----:||:-----:|:-----:|\n",
    "|`TRUE` ||`FALSE`|`TRUE` |\n",
    "|`FALSE`||`TRUE` |`FALSE`|\n",
    "\n",
    "These operations (apart from **xor**) have their own operators in R, which are common to most mainstream programming languages.\n",
    "\n",
    "|Boolean operation|R notation |\n",
    "|:---------------:|:---------:|\n",
    "|`a` **and** `b`  |`a && b`   |\n",
    "|`a` **or** `b`   |`a \\|\\| b`   |\n",
    "|**not** `a`      |`!a`       |\n",
    "|`a` **xor** `b`  |`xor(a, b)`|\n",
    "\n",
    "Try using them to combine conditions in your `if` statements!\n",
    "\n",
    "> _**N.B.:** Just like in arithmetic, if the order is unclear, you can use brackets to make it explicit.  For example, `(a || b) && c` versus `a || (b && c)`_"
   ]
  },
  {
   "cell_type": "code",
   "execution_count": 48,
   "metadata": {},
   "outputs": [
    {
     "name": "stdout",
     "output_type": "stream",
     "text": [
      "[1] \"this message will print\"\n"
     ]
    }
   ],
   "source": [
    "a <- \"grapefruit\"\n",
    "\n",
    "if(is.numeric(a) && a == \"grapefruit\") {print (\"this message won't print\")}\n",
    "if(is.character(a) && a == \"grapefruit\") {print (\"this message will print\")}"
   ]
  },
  {
   "cell_type": "markdown",
   "metadata": {},
   "source": [
    "### 5.2 Doing things lots of times"
   ]
  },
  {
   "cell_type": "markdown",
   "metadata": {},
   "source": [
    "One thing that lots of programs need to do is to **loop**.  R provides a few ways to do this which are common to many programming languages.  We're going to look at `for`, `while` and, as a special treat, **recursion**."
   ]
  },
  {
   "cell_type": "markdown",
   "metadata": {},
   "source": [
    "### 5.2.1 `for` loops"
   ]
  },
  {
   "cell_type": "markdown",
   "metadata": {},
   "source": [
    "`for` loops provide a way to iterate across an vector, allowing us to either interact with each element in turn.  Here's an example."
   ]
  },
  {
   "cell_type": "code",
   "execution_count": 49,
   "metadata": {},
   "outputs": [
    {
     "name": "stdout",
     "output_type": "stream",
     "text": [
      "[1] \"There are 3 characters in the word FOO\"\n",
      "[1] \"There are 3 characters in the word BAR\"\n",
      "[1] \"There are 3 characters in the word BAZ\"\n",
      "[1] \"There are 4 characters in the word QUUX\"\n",
      "[1] \"There are 5 characters in the word XYZZY\"\n"
     ]
    }
   ],
   "source": [
    "for (i in c(\"foo\", \"bar\", \"baz\", \"quux\", \"xyzzy\")) {\n",
    "  print(paste(\"There are\",\n",
    "              nchar(i),\n",
    "              \"characters in the word\",\n",
    "              toupper(i)))\n",
    "}"
   ]
  },
  {
   "cell_type": "markdown",
   "metadata": {},
   "source": [
    "We set up the `for` loop by providing it with a temporary name for the element we're currently looking at (in this case, `i`), the keyword `in` and a vector to iterate across.  The code between the curly braces `{`&hellip;`}` then runs once for every element in the vector.  Notice how assigning the temporary name `i` allowed us to interact with the item that was currently being looked at.\n",
    "\n",
    "This also provides a way to simply execute some code a certain number of times.  If, for our vector, we simply use a number sequence `1:n`, we can loop `n` times, like so:&ndash;"
   ]
  },
  {
   "cell_type": "code",
   "execution_count": 50,
   "metadata": {},
   "outputs": [
    {
     "name": "stdout",
     "output_type": "stream",
     "text": [
      "[1] \"This will repeat itself 8 times\"\n",
      "[1] \"This will repeat itself 8 times\"\n",
      "[1] \"This will repeat itself 8 times\"\n",
      "[1] \"This will repeat itself 8 times\"\n",
      "[1] \"This will repeat itself 8 times\"\n",
      "[1] \"This will repeat itself 8 times\"\n",
      "[1] \"This will repeat itself 8 times\"\n",
      "[1] \"This will repeat itself 8 times\"\n"
     ]
    }
   ],
   "source": [
    "for (i in 1:8) {\n",
    "  print(\"This will repeat itself 8 times\")\n",
    "}"
   ]
  },
  {
   "cell_type": "markdown",
   "metadata": {},
   "source": [
    "It is also quite common to **nest** loops, allowing us to iterate across two (or more) dimensions:&ndash;"
   ]
  },
  {
   "cell_type": "code",
   "execution_count": 51,
   "metadata": {},
   "outputs": [
    {
     "name": "stdout",
     "output_type": "stream",
     "text": [
      "[1] \"~~~~~~~~ x = 1 ~~~~~~~~\"\n",
      "[1] \"(1,1)\"\n",
      "[1] \"(1,2)\"\n",
      "[1] \"(1,3)\"\n",
      "[1] \"(1,4)\"\n",
      "[1] \"~~~~~~~~ x = 2 ~~~~~~~~\"\n",
      "[1] \"(2,1)\"\n",
      "[1] \"(2,2)\"\n",
      "[1] \"(2,3)\"\n",
      "[1] \"(2,4)\"\n",
      "[1] \"~~~~~~~~ x = 3 ~~~~~~~~\"\n",
      "[1] \"(3,1)\"\n",
      "[1] \"(3,2)\"\n",
      "[1] \"(3,3)\"\n",
      "[1] \"(3,4)\"\n"
     ]
    }
   ],
   "source": [
    "for (x in 1:3) {\n",
    "  print(paste(\"~~~~~~~~ x =\", x, \"~~~~~~~~\"))\n",
    "  for (y in 1:4) {\n",
    "      print(paste0(\"(\", x, \",\", y, \")\"))\n",
    "  }\n",
    "}"
   ]
  },
  {
   "cell_type": "markdown",
   "metadata": {},
   "source": [
    ">_**N.B.:** Notice that each loop needs its own temporary name, otherwise R won't know which loop it should be thinking about._"
   ]
  },
  {
   "cell_type": "markdown",
   "metadata": {},
   "source": [
    "This can be useful when we want to look at a data frame using the `[x,y]` notation:&ndash;"
   ]
  },
  {
   "cell_type": "code",
   "execution_count": 52,
   "metadata": {},
   "outputs": [
    {
     "data": {
      "text/html": [
       "<table>\n",
       "<caption>A data.frame: 5 × 2</caption>\n",
       "<thead>\n",
       "\t<tr><th scope=col>Example.column.1</th><th scope=col>Example.column.2</th></tr>\n",
       "\t<tr><th scope=col>&lt;int&gt;</th><th scope=col>&lt;fct&gt;</th></tr>\n",
       "</thead>\n",
       "<tbody>\n",
       "\t<tr><td> 2</td><td>foo  </td></tr>\n",
       "\t<tr><td> 4</td><td>bar  </td></tr>\n",
       "\t<tr><td> 6</td><td>baz  </td></tr>\n",
       "\t<tr><td> 8</td><td>quux </td></tr>\n",
       "\t<tr><td>10</td><td>xyzzy</td></tr>\n",
       "</tbody>\n",
       "</table>\n"
      ],
      "text/latex": [
       "A data.frame: 5 × 2\n",
       "\\begin{tabular}{ll}\n",
       " Example.column.1 & Example.column.2\\\\\n",
       " <int> & <fct>\\\\\n",
       "\\hline\n",
       "\t  2 & foo  \\\\\n",
       "\t  4 & bar  \\\\\n",
       "\t  6 & baz  \\\\\n",
       "\t  8 & quux \\\\\n",
       "\t 10 & xyzzy\\\\\n",
       "\\end{tabular}\n"
      ],
      "text/markdown": [
       "\n",
       "A data.frame: 5 × 2\n",
       "\n",
       "| Example.column.1 &lt;int&gt; | Example.column.2 &lt;fct&gt; |\n",
       "|---|---|\n",
       "|  2 | foo   |\n",
       "|  4 | bar   |\n",
       "|  6 | baz   |\n",
       "|  8 | quux  |\n",
       "| 10 | xyzzy |\n",
       "\n"
      ],
      "text/plain": [
       "  Example.column.1 Example.column.2\n",
       "1  2               foo             \n",
       "2  4               bar             \n",
       "3  6               baz             \n",
       "4  8               quux            \n",
       "5 10               xyzzy           "
      ]
     },
     "metadata": {},
     "output_type": "display_data"
    },
    {
     "name": "stdout",
     "output_type": "stream",
     "text": [
      "[1] \"d[1,1] = 2\"\n",
      "[1] \"d[1,2] = 4\"\n",
      "[1] \"d[1,3] = 6\"\n",
      "[1] \"d[1,4] = 8\"\n",
      "[1] \"d[1,5] = 10\"\n",
      "[1] \"d[2,1] = foo\"\n",
      "[1] \"d[2,2] = bar\"\n",
      "[1] \"d[2,3] = baz\"\n",
      "[1] \"d[2,4] = quux\"\n",
      "[1] \"d[2,5] = xyzzy\"\n"
     ]
    }
   ],
   "source": [
    "d <- read.csv(\"example.csv\")\n",
    "d\n",
    "\n",
    "for (i in 1:length(d[1,])) {\n",
    "  for (j in 1:length(d[,1])) {\n",
    "      print(paste0(\"d[\", i, \",\", j, \"] = \", d[j,i]))\n",
    "  }\n",
    "}"
   ]
  },
  {
   "cell_type": "markdown",
   "metadata": {},
   "source": [
    ">_**N.B.:** Notice how we didn't need to know how wide or tall our data frame was; we just used `length(d[1,])` to ask how many things were in the top row, and `length(d[,1])` to ask how many things were in the first column._"
   ]
  },
  {
   "cell_type": "markdown",
   "metadata": {},
   "source": [
    "### 5.2.2 `while` loops"
   ]
  },
  {
   "cell_type": "markdown",
   "metadata": {},
   "source": [
    "Another type of loop is the `while` loop.  Whereas the `for` loop was controlled by data, a `while` loop is controlled by logic: a `while` loop will run until a given condition (or **predicate**) evaluates to `FALSE`.  Let's see an example:&ndash;"
   ]
  },
  {
   "cell_type": "code",
   "execution_count": 53,
   "metadata": {},
   "outputs": [
    {
     "name": "stdout",
     "output_type": "stream",
     "text": [
      "[1] \"99 bottles of beer on the wall, 99 bottles of beer,\"\n",
      "[1] \"You take one down and pass it around, 98 bottles of beer on the wall\"\n",
      "[1] \"\"\n",
      "[1] \"98 bottles of beer on the wall, 98 bottles of beer,\"\n",
      "[1] \"You take one down and pass it around, 97 bottles of beer on the wall\"\n",
      "[1] \"\"\n",
      "[1] \"97 bottles of beer on the wall, 97 bottles of beer,\"\n",
      "[1] \"You take one down and pass it around, 96 bottles of beer on the wall\"\n",
      "[1] \"\"\n",
      "[1] \"96 bottles of beer on the wall, 96 bottles of beer,\"\n",
      "[1] \"You take one down and pass it around, 95 bottles of beer on the wall\"\n",
      "[1] \"\"\n",
      "[1] \"95 bottles of beer on the wall, 95 bottles of beer,\"\n",
      "[1] \"You take one down and pass it around, 94 bottles of beer on the wall\"\n",
      "[1] \"\"\n",
      "[1] \"94 bottles of beer on the wall, 94 bottles of beer,\"\n",
      "[1] \"You take one down and pass it around, 93 bottles of beer on the wall\"\n",
      "[1] \"\"\n",
      "[1] \"93 bottles of beer on the wall, 93 bottles of beer,\"\n",
      "[1] \"You take one down and pass it around, 92 bottles of beer on the wall\"\n",
      "[1] \"\"\n",
      "[1] \"92 bottles of beer on the wall, 92 bottles of beer,\"\n",
      "[1] \"You take one down and pass it around, 91 bottles of beer on the wall\"\n",
      "[1] \"\"\n",
      "[1] \"91 bottles of beer on the wall, 91 bottles of beer,\"\n",
      "[1] \"You take one down and pass it around, 90 bottles of beer on the wall\"\n",
      "[1] \"\"\n",
      "[1] \"90 bottles of beer on the wall, 90 bottles of beer,\"\n",
      "[1] \"You take one down and pass it around, 89 bottles of beer on the wall\"\n",
      "[1] \"\"\n",
      "[1] \"89 bottles of beer on the wall, 89 bottles of beer,\"\n",
      "[1] \"You take one down and pass it around, 88 bottles of beer on the wall\"\n",
      "[1] \"\"\n",
      "[1] \"88 bottles of beer on the wall, 88 bottles of beer,\"\n",
      "[1] \"You take one down and pass it around, 87 bottles of beer on the wall\"\n",
      "[1] \"\"\n",
      "[1] \"87 bottles of beer on the wall, 87 bottles of beer,\"\n",
      "[1] \"You take one down and pass it around, 86 bottles of beer on the wall\"\n",
      "[1] \"\"\n",
      "[1] \"86 bottles of beer on the wall, 86 bottles of beer,\"\n",
      "[1] \"You take one down and pass it around, 85 bottles of beer on the wall\"\n",
      "[1] \"\"\n",
      "[1] \"85 bottles of beer on the wall, 85 bottles of beer,\"\n",
      "[1] \"You take one down and pass it around, 84 bottles of beer on the wall\"\n",
      "[1] \"\"\n",
      "[1] \"84 bottles of beer on the wall, 84 bottles of beer,\"\n",
      "[1] \"You take one down and pass it around, 83 bottles of beer on the wall\"\n",
      "[1] \"\"\n",
      "[1] \"83 bottles of beer on the wall, 83 bottles of beer,\"\n",
      "[1] \"You take one down and pass it around, 82 bottles of beer on the wall\"\n",
      "[1] \"\"\n",
      "[1] \"82 bottles of beer on the wall, 82 bottles of beer,\"\n",
      "[1] \"You take one down and pass it around, 81 bottles of beer on the wall\"\n",
      "[1] \"\"\n",
      "[1] \"81 bottles of beer on the wall, 81 bottles of beer,\"\n",
      "[1] \"You take one down and pass it around, 80 bottles of beer on the wall\"\n",
      "[1] \"\"\n",
      "[1] \"80 bottles of beer on the wall, 80 bottles of beer,\"\n",
      "[1] \"You take one down and pass it around, 79 bottles of beer on the wall\"\n",
      "[1] \"\"\n",
      "[1] \"79 bottles of beer on the wall, 79 bottles of beer,\"\n",
      "[1] \"You take one down and pass it around, 78 bottles of beer on the wall\"\n",
      "[1] \"\"\n",
      "[1] \"78 bottles of beer on the wall, 78 bottles of beer,\"\n",
      "[1] \"You take one down and pass it around, 77 bottles of beer on the wall\"\n",
      "[1] \"\"\n",
      "[1] \"77 bottles of beer on the wall, 77 bottles of beer,\"\n",
      "[1] \"You take one down and pass it around, 76 bottles of beer on the wall\"\n",
      "[1] \"\"\n",
      "[1] \"76 bottles of beer on the wall, 76 bottles of beer,\"\n",
      "[1] \"You take one down and pass it around, 75 bottles of beer on the wall\"\n",
      "[1] \"\"\n",
      "[1] \"75 bottles of beer on the wall, 75 bottles of beer,\"\n",
      "[1] \"You take one down and pass it around, 74 bottles of beer on the wall\"\n",
      "[1] \"\"\n",
      "[1] \"74 bottles of beer on the wall, 74 bottles of beer,\"\n",
      "[1] \"You take one down and pass it around, 73 bottles of beer on the wall\"\n",
      "[1] \"\"\n",
      "[1] \"73 bottles of beer on the wall, 73 bottles of beer,\"\n",
      "[1] \"You take one down and pass it around, 72 bottles of beer on the wall\"\n",
      "[1] \"\"\n",
      "[1] \"72 bottles of beer on the wall, 72 bottles of beer,\"\n",
      "[1] \"You take one down and pass it around, 71 bottles of beer on the wall\"\n",
      "[1] \"\"\n",
      "[1] \"71 bottles of beer on the wall, 71 bottles of beer,\"\n",
      "[1] \"You take one down and pass it around, 70 bottles of beer on the wall\"\n",
      "[1] \"\"\n",
      "[1] \"70 bottles of beer on the wall, 70 bottles of beer,\"\n",
      "[1] \"You take one down and pass it around, 69 bottles of beer on the wall\"\n",
      "[1] \"\"\n",
      "[1] \"69 bottles of beer on the wall, 69 bottles of beer,\"\n",
      "[1] \"You take one down and pass it around, 68 bottles of beer on the wall\"\n",
      "[1] \"\"\n",
      "[1] \"68 bottles of beer on the wall, 68 bottles of beer,\"\n",
      "[1] \"You take one down and pass it around, 67 bottles of beer on the wall\"\n",
      "[1] \"\"\n",
      "[1] \"67 bottles of beer on the wall, 67 bottles of beer,\"\n",
      "[1] \"You take one down and pass it around, 66 bottles of beer on the wall\"\n",
      "[1] \"\"\n",
      "[1] \"66 bottles of beer on the wall, 66 bottles of beer,\"\n",
      "[1] \"You take one down and pass it around, 65 bottles of beer on the wall\"\n",
      "[1] \"\"\n",
      "[1] \"65 bottles of beer on the wall, 65 bottles of beer,\"\n",
      "[1] \"You take one down and pass it around, 64 bottles of beer on the wall\"\n",
      "[1] \"\"\n",
      "[1] \"64 bottles of beer on the wall, 64 bottles of beer,\"\n",
      "[1] \"You take one down and pass it around, 63 bottles of beer on the wall\"\n",
      "[1] \"\"\n",
      "[1] \"63 bottles of beer on the wall, 63 bottles of beer,\"\n",
      "[1] \"You take one down and pass it around, 62 bottles of beer on the wall\"\n",
      "[1] \"\"\n",
      "[1] \"62 bottles of beer on the wall, 62 bottles of beer,\"\n",
      "[1] \"You take one down and pass it around, 61 bottles of beer on the wall\"\n",
      "[1] \"\"\n",
      "[1] \"61 bottles of beer on the wall, 61 bottles of beer,\"\n",
      "[1] \"You take one down and pass it around, 60 bottles of beer on the wall\"\n",
      "[1] \"\"\n",
      "[1] \"60 bottles of beer on the wall, 60 bottles of beer,\"\n",
      "[1] \"You take one down and pass it around, 59 bottles of beer on the wall\"\n",
      "[1] \"\"\n",
      "[1] \"59 bottles of beer on the wall, 59 bottles of beer,\"\n",
      "[1] \"You take one down and pass it around, 58 bottles of beer on the wall\"\n",
      "[1] \"\"\n",
      "[1] \"58 bottles of beer on the wall, 58 bottles of beer,\"\n",
      "[1] \"You take one down and pass it around, 57 bottles of beer on the wall\"\n",
      "[1] \"\"\n",
      "[1] \"57 bottles of beer on the wall, 57 bottles of beer,\"\n",
      "[1] \"You take one down and pass it around, 56 bottles of beer on the wall\"\n",
      "[1] \"\"\n",
      "[1] \"56 bottles of beer on the wall, 56 bottles of beer,\"\n",
      "[1] \"You take one down and pass it around, 55 bottles of beer on the wall\"\n",
      "[1] \"\"\n",
      "[1] \"55 bottles of beer on the wall, 55 bottles of beer,\"\n",
      "[1] \"You take one down and pass it around, 54 bottles of beer on the wall\"\n",
      "[1] \"\"\n",
      "[1] \"54 bottles of beer on the wall, 54 bottles of beer,\"\n",
      "[1] \"You take one down and pass it around, 53 bottles of beer on the wall\"\n",
      "[1] \"\"\n",
      "[1] \"53 bottles of beer on the wall, 53 bottles of beer,\"\n",
      "[1] \"You take one down and pass it around, 52 bottles of beer on the wall\"\n",
      "[1] \"\"\n",
      "[1] \"52 bottles of beer on the wall, 52 bottles of beer,\"\n",
      "[1] \"You take one down and pass it around, 51 bottles of beer on the wall\"\n",
      "[1] \"\"\n",
      "[1] \"51 bottles of beer on the wall, 51 bottles of beer,\"\n",
      "[1] \"You take one down and pass it around, 50 bottles of beer on the wall\"\n",
      "[1] \"\"\n",
      "[1] \"50 bottles of beer on the wall, 50 bottles of beer,\"\n",
      "[1] \"You take one down and pass it around, 49 bottles of beer on the wall\"\n",
      "[1] \"\"\n",
      "[1] \"49 bottles of beer on the wall, 49 bottles of beer,\"\n",
      "[1] \"You take one down and pass it around, 48 bottles of beer on the wall\"\n",
      "[1] \"\"\n",
      "[1] \"48 bottles of beer on the wall, 48 bottles of beer,\"\n",
      "[1] \"You take one down and pass it around, 47 bottles of beer on the wall\"\n",
      "[1] \"\"\n",
      "[1] \"47 bottles of beer on the wall, 47 bottles of beer,\"\n",
      "[1] \"You take one down and pass it around, 46 bottles of beer on the wall\"\n",
      "[1] \"\"\n",
      "[1] \"46 bottles of beer on the wall, 46 bottles of beer,\"\n",
      "[1] \"You take one down and pass it around, 45 bottles of beer on the wall\"\n",
      "[1] \"\"\n",
      "[1] \"45 bottles of beer on the wall, 45 bottles of beer,\"\n",
      "[1] \"You take one down and pass it around, 44 bottles of beer on the wall\"\n",
      "[1] \"\"\n",
      "[1] \"44 bottles of beer on the wall, 44 bottles of beer,\"\n",
      "[1] \"You take one down and pass it around, 43 bottles of beer on the wall\"\n",
      "[1] \"\"\n",
      "[1] \"43 bottles of beer on the wall, 43 bottles of beer,\"\n",
      "[1] \"You take one down and pass it around, 42 bottles of beer on the wall\"\n",
      "[1] \"\"\n",
      "[1] \"42 bottles of beer on the wall, 42 bottles of beer,\"\n",
      "[1] \"You take one down and pass it around, 41 bottles of beer on the wall\"\n",
      "[1] \"\"\n",
      "[1] \"41 bottles of beer on the wall, 41 bottles of beer,\"\n",
      "[1] \"You take one down and pass it around, 40 bottles of beer on the wall\"\n",
      "[1] \"\"\n",
      "[1] \"40 bottles of beer on the wall, 40 bottles of beer,\"\n",
      "[1] \"You take one down and pass it around, 39 bottles of beer on the wall\"\n",
      "[1] \"\"\n",
      "[1] \"39 bottles of beer on the wall, 39 bottles of beer,\"\n",
      "[1] \"You take one down and pass it around, 38 bottles of beer on the wall\"\n",
      "[1] \"\"\n",
      "[1] \"38 bottles of beer on the wall, 38 bottles of beer,\"\n",
      "[1] \"You take one down and pass it around, 37 bottles of beer on the wall\"\n",
      "[1] \"\"\n",
      "[1] \"37 bottles of beer on the wall, 37 bottles of beer,\"\n",
      "[1] \"You take one down and pass it around, 36 bottles of beer on the wall\"\n",
      "[1] \"\"\n",
      "[1] \"36 bottles of beer on the wall, 36 bottles of beer,\"\n",
      "[1] \"You take one down and pass it around, 35 bottles of beer on the wall\"\n",
      "[1] \"\"\n",
      "[1] \"35 bottles of beer on the wall, 35 bottles of beer,\"\n",
      "[1] \"You take one down and pass it around, 34 bottles of beer on the wall\"\n",
      "[1] \"\"\n",
      "[1] \"34 bottles of beer on the wall, 34 bottles of beer,\"\n",
      "[1] \"You take one down and pass it around, 33 bottles of beer on the wall\"\n",
      "[1] \"\"\n",
      "[1] \"33 bottles of beer on the wall, 33 bottles of beer,\"\n",
      "[1] \"You take one down and pass it around, 32 bottles of beer on the wall\"\n",
      "[1] \"\"\n",
      "[1] \"32 bottles of beer on the wall, 32 bottles of beer,\"\n",
      "[1] \"You take one down and pass it around, 31 bottles of beer on the wall\"\n",
      "[1] \"\"\n",
      "[1] \"31 bottles of beer on the wall, 31 bottles of beer,\"\n",
      "[1] \"You take one down and pass it around, 30 bottles of beer on the wall\"\n",
      "[1] \"\"\n",
      "[1] \"30 bottles of beer on the wall, 30 bottles of beer,\"\n",
      "[1] \"You take one down and pass it around, 29 bottles of beer on the wall\"\n",
      "[1] \"\"\n",
      "[1] \"29 bottles of beer on the wall, 29 bottles of beer,\"\n",
      "[1] \"You take one down and pass it around, 28 bottles of beer on the wall\"\n",
      "[1] \"\"\n",
      "[1] \"28 bottles of beer on the wall, 28 bottles of beer,\"\n",
      "[1] \"You take one down and pass it around, 27 bottles of beer on the wall\"\n",
      "[1] \"\"\n",
      "[1] \"27 bottles of beer on the wall, 27 bottles of beer,\"\n",
      "[1] \"You take one down and pass it around, 26 bottles of beer on the wall\"\n",
      "[1] \"\"\n",
      "[1] \"26 bottles of beer on the wall, 26 bottles of beer,\"\n",
      "[1] \"You take one down and pass it around, 25 bottles of beer on the wall\"\n",
      "[1] \"\"\n",
      "[1] \"25 bottles of beer on the wall, 25 bottles of beer,\"\n",
      "[1] \"You take one down and pass it around, 24 bottles of beer on the wall\"\n",
      "[1] \"\"\n",
      "[1] \"24 bottles of beer on the wall, 24 bottles of beer,\"\n",
      "[1] \"You take one down and pass it around, 23 bottles of beer on the wall\"\n",
      "[1] \"\"\n",
      "[1] \"23 bottles of beer on the wall, 23 bottles of beer,\"\n",
      "[1] \"You take one down and pass it around, 22 bottles of beer on the wall\"\n",
      "[1] \"\"\n",
      "[1] \"22 bottles of beer on the wall, 22 bottles of beer,\"\n",
      "[1] \"You take one down and pass it around, 21 bottles of beer on the wall\"\n",
      "[1] \"\"\n",
      "[1] \"21 bottles of beer on the wall, 21 bottles of beer,\"\n",
      "[1] \"You take one down and pass it around, 20 bottles of beer on the wall\"\n",
      "[1] \"\"\n",
      "[1] \"20 bottles of beer on the wall, 20 bottles of beer,\"\n",
      "[1] \"You take one down and pass it around, 19 bottles of beer on the wall\"\n",
      "[1] \"\"\n",
      "[1] \"19 bottles of beer on the wall, 19 bottles of beer,\"\n",
      "[1] \"You take one down and pass it around, 18 bottles of beer on the wall\"\n",
      "[1] \"\"\n",
      "[1] \"18 bottles of beer on the wall, 18 bottles of beer,\"\n",
      "[1] \"You take one down and pass it around, 17 bottles of beer on the wall\"\n",
      "[1] \"\"\n",
      "[1] \"17 bottles of beer on the wall, 17 bottles of beer,\"\n",
      "[1] \"You take one down and pass it around, 16 bottles of beer on the wall\"\n",
      "[1] \"\"\n",
      "[1] \"16 bottles of beer on the wall, 16 bottles of beer,\"\n",
      "[1] \"You take one down and pass it around, 15 bottles of beer on the wall\"\n",
      "[1] \"\"\n",
      "[1] \"15 bottles of beer on the wall, 15 bottles of beer,\"\n",
      "[1] \"You take one down and pass it around, 14 bottles of beer on the wall\"\n",
      "[1] \"\"\n",
      "[1] \"14 bottles of beer on the wall, 14 bottles of beer,\"\n",
      "[1] \"You take one down and pass it around, 13 bottles of beer on the wall\"\n",
      "[1] \"\"\n",
      "[1] \"13 bottles of beer on the wall, 13 bottles of beer,\"\n",
      "[1] \"You take one down and pass it around, 12 bottles of beer on the wall\"\n",
      "[1] \"\"\n",
      "[1] \"12 bottles of beer on the wall, 12 bottles of beer,\"\n",
      "[1] \"You take one down and pass it around, 11 bottles of beer on the wall\"\n",
      "[1] \"\"\n",
      "[1] \"11 bottles of beer on the wall, 11 bottles of beer,\"\n",
      "[1] \"You take one down and pass it around, 10 bottles of beer on the wall\"\n",
      "[1] \"\"\n",
      "[1] \"10 bottles of beer on the wall, 10 bottles of beer,\"\n",
      "[1] \"You take one down and pass it around, 9 bottles of beer on the wall\"\n",
      "[1] \"\"\n",
      "[1] \"9 bottles of beer on the wall, 9 bottles of beer,\"\n",
      "[1] \"You take one down and pass it around, 8 bottles of beer on the wall\"\n",
      "[1] \"\"\n",
      "[1] \"8 bottles of beer on the wall, 8 bottles of beer,\"\n",
      "[1] \"You take one down and pass it around, 7 bottles of beer on the wall\"\n",
      "[1] \"\"\n",
      "[1] \"7 bottles of beer on the wall, 7 bottles of beer,\"\n",
      "[1] \"You take one down and pass it around, 6 bottles of beer on the wall\"\n",
      "[1] \"\"\n",
      "[1] \"6 bottles of beer on the wall, 6 bottles of beer,\"\n",
      "[1] \"You take one down and pass it around, 5 bottles of beer on the wall\"\n",
      "[1] \"\"\n",
      "[1] \"5 bottles of beer on the wall, 5 bottles of beer,\"\n",
      "[1] \"You take one down and pass it around, 4 bottles of beer on the wall\"\n",
      "[1] \"\"\n",
      "[1] \"4 bottles of beer on the wall, 4 bottles of beer,\"\n",
      "[1] \"You take one down and pass it around, 3 bottles of beer on the wall\"\n",
      "[1] \"\"\n",
      "[1] \"3 bottles of beer on the wall, 3 bottles of beer,\"\n",
      "[1] \"You take one down and pass it around, 2 bottles of beer on the wall\"\n",
      "[1] \"\"\n",
      "[1] \"2 bottles of beer on the wall, 2 bottles of beer,\"\n",
      "[1] \"You take one down and pass it around, 1 bottle of beer on the wall\"\n",
      "[1] \"\"\n",
      "[1] \"1 bottle of beer on the wall, 1 bottle of beer,\"\n",
      "[1] \"You take one down and pass it around, no more bottles of beer on the wall\"\n"
     ]
    }
   ],
   "source": [
    "n <- 99\n",
    "\n",
    "while (n > 0) {\n",
    "    print(paste(n,\n",
    "                if (n == 1) \"bottle\" else \"bottles\",\n",
    "                \"of beer on the wall,\",\n",
    "                n,\n",
    "                if (n == 1) \"bottle\" else \"bottles\",\n",
    "                \"of beer,\"))\n",
    "    print(paste(\"You take one down and pass it around,\",\n",
    "                if (n - 1 == 0) \"no more\" else n - 1,\n",
    "                if (n - 1 == 1) \"bottle\" else \"bottles\",\n",
    "                \"of beer on the wall\"))\n",
    "    if (n > 1) print(\"\")\n",
    "    n <- n - 1\n",
    "}"
   ]
  },
  {
   "cell_type": "markdown",
   "metadata": {},
   "source": [
    "As you can see, the loop keeps executing until the value of `n` is no longer greater than zero (i.e. `n > 0` evaluates to `FALSE`).  We can also use `while` loops to run something forever, if we really want to.  To do that , you would just need to specify the predicate `TRUE`, like this: `while (TRUE) {`&hellip;`}`.  We won't give an example here, because it would make this Web page misbehave, but if you want to try it in RStudio, go ahead!  You can stop an infinite loop by pressing the **Stop** button above the interpreter, or by pressing **Ctrl + C**."
   ]
  },
  {
   "cell_type": "markdown",
   "metadata": {},
   "source": [
    "### 5.2.3 Recursion"
   ]
  },
  {
   "cell_type": "markdown",
   "metadata": {},
   "source": [
    "One final way we can make something happen lots of times is by using **recursion**.  Recursion refers to when a function calls itself, and we usually include some kind of stop condition so that it doesn't run on forever and ever.\n",
    "\n",
    "Here's an example, where we implement the factorial function recursively:&ndash;\n",
    "\n",
    "<span style=\"font-size:75%\"><em>(A factorial is when you take a number and multiply it by every number below it, e.g. 5! = 5 × 4 × 3 × 2 × 1 = 120)</em></span>"
   ]
  },
  {
   "cell_type": "code",
   "execution_count": 54,
   "metadata": {},
   "outputs": [
    {
     "data": {
      "text/html": [
       "120"
      ],
      "text/latex": [
       "120"
      ],
      "text/markdown": [
       "120"
      ],
      "text/plain": [
       "[1] 120"
      ]
     },
     "metadata": {},
     "output_type": "display_data"
    }
   ],
   "source": [
    "fac <- function(x) {\n",
    "  if (x == 0) return(1)\n",
    "  else return(x * fac(x - 1))\n",
    "}\n",
    "\n",
    "fac(5)"
   ]
  },
  {
   "cell_type": "markdown",
   "metadata": {},
   "source": [
    ">_**N.B.:** The function `return` tells R that its argument should be the output of the function._\n",
    "\n",
    "The computer's thought process for this function looks something like this:&ndash;\n",
    "\n",
    "`fac(5)`\n",
    "\n",
    "&nbsp;&nbsp;&nbsp;&nbsp;&rArr; 5 × `fac(4)`\n",
    "\n",
    "&nbsp;&nbsp;&nbsp;&nbsp;&rArr; 5 × (4 × `fac(3)`)\n",
    "\n",
    "&nbsp;&nbsp;&nbsp;&nbsp;&rArr; 5 × (4 × (3 × `fac(2)`))\n",
    "\n",
    "&nbsp;&nbsp;&nbsp;&nbsp;&rArr; 5 × (4 × (3 × (2 × `fac(1)`)))\n",
    "\n",
    "&nbsp;&nbsp;&nbsp;&nbsp;&rArr; 5 × (4 × (3 × (2 × (1 × `fac(0)`))))\n",
    "\n",
    "&nbsp;&nbsp;&nbsp;&nbsp;&rArr; 5 × (4 × (3 × (2 × (1 × 1))))\n",
    "\n",
    "&nbsp;&nbsp;&nbsp;&nbsp;&rArr; 5 × (4 × (3 × (2 × 1)))\n",
    "\n",
    "&nbsp;&nbsp;&nbsp;&nbsp;&rArr; 5 × (4 × (3 × 2))\n",
    "\n",
    "&nbsp;&nbsp;&nbsp;&nbsp;&rArr; 5 × (4 × 6)\n",
    "\n",
    "&nbsp;&nbsp;&nbsp;&nbsp;&rArr; 5 × 24\n",
    "\n",
    "&nbsp;&nbsp;&nbsp;&nbsp;&rArr; 120"
   ]
  },
  {
   "cell_type": "markdown",
   "metadata": {},
   "source": [
    "This isn't always the most intuitive solution to a problem, but it is an important concept to have in your toolbox.  Most importantly, knowing multiple ways to solve a problem gives you more flexibility as a programmer, making you less likely to get stuck!\n",
    "\n",
    "You will no doubt be _thrilled_ to hear that this pretty much concludes all of the foundational computer-science concepts in this tutorial!  Have a stiff drink; you've earned it.  In the next section, we're going to look at some much less dry material, covering how we produce charts and graphics from our data using R."
   ]
  },
  {
   "cell_type": "markdown",
   "metadata": {},
   "source": [
    "[_(Back to top)_](#Basic-R-from-scratch)\n",
    "\n",
    "---"
   ]
  },
  {
   "cell_type": "markdown",
   "metadata": {},
   "source": [
    "## 6 Graphics and plotting charts"
   ]
  },
  {
   "cell_type": "markdown",
   "metadata": {},
   "source": [
    "Now that we've _finally_ finished ploughing through all of the basic concepts involved in computer programming, we can _finally_ start to think about making some fancy graphics in R!\n",
    "\n",
    "Luckily for us, the basic R language includes quite a lot of functions for making charts and other graphics.  We're going to look at three to get us started, and then think about the more generic options, parameters and functions that can apply to any charts.\n",
    "\n",
    "We're going to kick off by looking at:&ndash;\n",
    "\n",
    "- `plot` to plot points on a line or scatter chart\n",
    "- `barplot` to plot bar charts\n",
    "- `pie` to plot pie charts\n",
    "\n",
    "Fundamentally, these functions will quite happily just accept a single vector of data, and plot it in the style requested.  For example:&ndash;"
   ]
  },
  {
   "cell_type": "code",
   "execution_count": 55,
   "metadata": {},
   "outputs": [
    {
     "data": {
      "image/png": "[encoded data removed]",
      "text/plain": [
       "plot without title"
      ]
     },
     "metadata": {
      "image/png": {
       "height": 420,
       "width": 420
      },
      "text/plain": {
       "height": 420,
       "width": 420
      }
     },
     "output_type": "display_data"
    },
    {
     "data": {
      "image/png": "[encoded data removed]",
      "text/plain": [
       "plot without title"
      ]
     },
     "metadata": {
      "image/png": {
       "height": 420,
       "width": 420
      },
      "text/plain": {
       "height": 420,
       "width": 420
      }
     },
     "output_type": "display_data"
    },
    {
     "data": {
      "image/png": "[encoded data removed]",
      "text/plain": [
       "plot without title"
      ]
     },
     "metadata": {
      "image/png": {
       "height": 420,
       "width": 420
      },
      "text/plain": {
       "height": 420,
       "width": 420
      }
     },
     "output_type": "display_data"
    }
   ],
   "source": [
    "a <- c(1, 2, 4, 8, 16, 32, 64, 128)\n",
    "\n",
    "plot(a)\n",
    "barplot(a)\n",
    "pie(a)"
   ]
  },
  {
   "cell_type": "markdown",
   "metadata": {},
   "source": [
    "Which is nice, but we would ideally like to be able to do a bit more than produce blank, unlabelled charts.\n",
    "\n",
    "Let's have a look at `plot`, `barplot` and `pie` in more detail.  We'll then take a quick look at `par`, the function which sets generic graphics options for all kinds of charts.\n",
    "\n",
    "> _**N.B.:** If you're feeling confident with these already, and want to make even fancier chart with more features, the [`ggplot2`](https://cran.r-project.org/web/packages/ggplot2/index.html) package is a popular alternative to the basic graphics functions provided with the base R language._"
   ]
  },
  {
   "cell_type": "markdown",
   "metadata": {},
   "source": [
    "### 6.1 `plot`"
   ]
  },
  {
   "cell_type": "markdown",
   "metadata": {},
   "source": [
    "`plot` is a function for plotting points on a chart, meaning that it is primarily useful (for us) for plotting line and scatter charts.\n",
    "\n",
    "Let's define ourselves a nice data frame to work with:&ndash;"
   ]
  },
  {
   "cell_type": "code",
   "execution_count": 56,
   "metadata": {},
   "outputs": [
    {
     "data": {
      "text/html": [
       "<table>\n",
       "<caption>A data.frame: 12 × 2</caption>\n",
       "<thead>\n",
       "\t<tr><th scope=col>year</th><th scope=col>pay</th></tr>\n",
       "\t<tr><th scope=col>&lt;int&gt;</th><th scope=col>&lt;dbl&gt;</th></tr>\n",
       "</thead>\n",
       "<tbody>\n",
       "\t<tr><td>2019</td><td>  29000.0</td></tr>\n",
       "\t<tr><td>2020</td><td>  40600.0</td></tr>\n",
       "\t<tr><td>2021</td><td>  56840.0</td></tr>\n",
       "\t<tr><td>2022</td><td>  79576.0</td></tr>\n",
       "\t<tr><td>2023</td><td> 111406.4</td></tr>\n",
       "\t<tr><td>2024</td><td> 155969.0</td></tr>\n",
       "\t<tr><td>2025</td><td> 218356.5</td></tr>\n",
       "\t<tr><td>2026</td><td> 305699.2</td></tr>\n",
       "\t<tr><td>2027</td><td> 427978.8</td></tr>\n",
       "\t<tr><td>2028</td><td> 599170.4</td></tr>\n",
       "\t<tr><td>2029</td><td> 838838.5</td></tr>\n",
       "\t<tr><td>2030</td><td>1174373.9</td></tr>\n",
       "</tbody>\n",
       "</table>\n"
      ],
      "text/latex": [
       "A data.frame: 12 × 2\n",
       "\\begin{tabular}{ll}\n",
       " year & pay\\\\\n",
       " <int> & <dbl>\\\\\n",
       "\\hline\n",
       "\t 2019 &   29000.0\\\\\n",
       "\t 2020 &   40600.0\\\\\n",
       "\t 2021 &   56840.0\\\\\n",
       "\t 2022 &   79576.0\\\\\n",
       "\t 2023 &  111406.4\\\\\n",
       "\t 2024 &  155969.0\\\\\n",
       "\t 2025 &  218356.5\\\\\n",
       "\t 2026 &  305699.2\\\\\n",
       "\t 2027 &  427978.8\\\\\n",
       "\t 2028 &  599170.4\\\\\n",
       "\t 2029 &  838838.5\\\\\n",
       "\t 2030 & 1174373.9\\\\\n",
       "\\end{tabular}\n"
      ],
      "text/markdown": [
       "\n",
       "A data.frame: 12 × 2\n",
       "\n",
       "| year &lt;int&gt; | pay &lt;dbl&gt; |\n",
       "|---|---|\n",
       "| 2019 |   29000.0 |\n",
       "| 2020 |   40600.0 |\n",
       "| 2021 |   56840.0 |\n",
       "| 2022 |   79576.0 |\n",
       "| 2023 |  111406.4 |\n",
       "| 2024 |  155969.0 |\n",
       "| 2025 |  218356.5 |\n",
       "| 2026 |  305699.2 |\n",
       "| 2027 |  427978.8 |\n",
       "| 2028 |  599170.4 |\n",
       "| 2029 |  838838.5 |\n",
       "| 2030 | 1174373.9 |\n",
       "\n"
      ],
      "text/plain": [
       "   year pay      \n",
       "1  2019   29000.0\n",
       "2  2020   40600.0\n",
       "3  2021   56840.0\n",
       "4  2022   79576.0\n",
       "5  2023  111406.4\n",
       "6  2024  155969.0\n",
       "7  2025  218356.5\n",
       "8  2026  305699.2\n",
       "9  2027  427978.8\n",
       "10 2028  599170.4\n",
       "11 2029  838838.5\n",
       "12 2030 1174373.9"
      ]
     },
     "metadata": {},
     "output_type": "display_data"
    }
   ],
   "source": [
    "philSalary <- data.frame(\n",
    "  year = 2019:2030,\n",
    "  pay = 29000 * 1.4^(0:(length(2019:2030)-1)) # Assuming a modest 40%\n",
    ")                                             # pay rise each year\n",
    "\n",
    "philSalary"
   ]
  },
  {
   "cell_type": "markdown",
   "metadata": {},
   "source": [
    "So what happens if we just call `plot` on this?"
   ]
  },
  {
   "cell_type": "code",
   "execution_count": 57,
   "metadata": {},
   "outputs": [
    {
     "data": {
      "image/png": "[encoded data removed]",
      "text/plain": [
       "plot without title"
      ]
     },
     "metadata": {
      "image/png": {
       "height": 420,
       "width": 420
      },
      "text/plain": {
       "height": 420,
       "width": 420
      }
     },
     "output_type": "display_data"
    }
   ],
   "source": [
    "plot(philSalary)"
   ]
  },
  {
   "cell_type": "markdown",
   "metadata": {},
   "source": [
    "Pretty decent.  But also pretty dull.  What if we want to change some things up?  This is where we can use the optional arguments provided by `plot`.  I'll demo a few here, but full explanations of what you can fiddle with are available by running `?plot`."
   ]
  },
  {
   "cell_type": "code",
   "execution_count": 58,
   "metadata": {},
   "outputs": [
    {
     "data": {
      "image/png": "[encoded data removed]",
      "text/plain": [
       "Plot with title “Phil's salary 2019-2030”"
      ]
     },
     "metadata": {
      "image/png": {
       "height": 420,
       "width": 420
      },
      "text/plain": {
       "height": 420,
       "width": 420
      }
     },
     "output_type": "display_data"
    }
   ],
   "source": [
    "plot(philSalary,\n",
    "     main = \"Phil's salary 2019-2030\", # Title\n",
    "     xlab = \"Year\",                    # x-axis label\n",
    "     ylab = \"Salary / £\",              # y-axis label\n",
    "     pch  = 4)                         # Symbol used for each point"
   ]
  },
  {
   "cell_type": "markdown",
   "metadata": {},
   "source": [
    "> _**N.B.:** For a list of built-in symbols that `pch` can understand, see [here]()._\n",
    "\n",
    "If we want a line chart rather than a scatter plot, we can use the `type` optional argument to say so.  `type` gives us quite a few additional options as well."
   ]
  },
  {
   "cell_type": "code",
   "execution_count": 59,
   "metadata": {},
   "outputs": [
    {
     "data": {
      "image/png": "[encoded data removed]",
      "text/plain": [
       "Plot with title “type=\"l\"”"
      ]
     },
     "metadata": {
      "image/png": {
       "height": 420,
       "width": 420
      },
      "text/plain": {
       "height": 420,
       "width": 420
      }
     },
     "output_type": "display_data"
    },
    {
     "data": {
      "image/png": "[encoded data removed]",
      "text/plain": [
       "Plot with title “type=\"o\"”"
      ]
     },
     "metadata": {
      "image/png": {
       "height": 420,
       "width": 420
      },
      "text/plain": {
       "height": 420,
       "width": 420
      }
     },
     "output_type": "display_data"
    },
    {
     "data": {
      "image/png": "[encoded data removed]",
      "text/plain": [
       "Plot with title “type=\"h\"”"
      ]
     },
     "metadata": {
      "image/png": {
       "height": 420,
       "width": 420
      },
      "text/plain": {
       "height": 420,
       "width": 420
      }
     },
     "output_type": "display_data"
    }
   ],
   "source": [
    "plot(philSalary,\n",
    "     type = \"l\",        # \"l\" for a line chart\n",
    "     main = 'type=\"l\"')\n",
    "\n",
    "plot(philSalary,\n",
    "     type = \"o\",        # \"o\" to overplot both points and lines\n",
    "     main = 'type=\"o\"')\n",
    "\n",
    "plot(philSalary,\n",
    "     type = \"h\",        # \"h\" for high-density, histogram-style lines\n",
    "     main = 'type=\"h\"')"
   ]
  },
  {
   "cell_type": "markdown",
   "metadata": {},
   "source": [
    "> _**N.B.:** Notice how, when I needed to use the literal character `\"` in a string, I enclosed the string in `'`&hellip;`'` instead of `\"`&hellip;`\"`._"
   ]
  },
  {
   "cell_type": "markdown",
   "metadata": {},
   "source": [
    "Great, so what about when we have more than one series?  Not a problem.  We can add stuff to our existing plot using `points`, `lines`, `legend`, `text` and lots of other functions.\n",
    "\n",
    "> _**N.B.:** This is going to be quite a big block of code as we're going to be demonstrating quite a few things, so make sure that you read the **comments** marked with `#`!_"
   ]
  },
  {
   "cell_type": "code",
   "execution_count": 60,
   "metadata": {},
   "outputs": [
    {
     "data": {
      "text/html": [
       "<table>\n",
       "<caption>A data.frame: 12 × 3</caption>\n",
       "<thead>\n",
       "\t<tr><th scope=col>year</th><th scope=col>phil</th><th scope=col>loic</th></tr>\n",
       "\t<tr><th scope=col>&lt;int&gt;</th><th scope=col>&lt;dbl&gt;</th><th scope=col>&lt;dbl&gt;</th></tr>\n",
       "</thead>\n",
       "<tbody>\n",
       "\t<tr><td>2019</td><td>  29000.0</td><td>70000.000</td></tr>\n",
       "\t<tr><td>2020</td><td>  40600.0</td><td>56000.000</td></tr>\n",
       "\t<tr><td>2021</td><td>  56840.0</td><td>44800.000</td></tr>\n",
       "\t<tr><td>2022</td><td>  79576.0</td><td>35840.000</td></tr>\n",
       "\t<tr><td>2023</td><td> 111406.4</td><td>28672.000</td></tr>\n",
       "\t<tr><td>2024</td><td> 155969.0</td><td>22937.600</td></tr>\n",
       "\t<tr><td>2025</td><td> 218356.5</td><td>18350.080</td></tr>\n",
       "\t<tr><td>2026</td><td> 305699.2</td><td>14680.064</td></tr>\n",
       "\t<tr><td>2027</td><td> 427978.8</td><td>11744.051</td></tr>\n",
       "\t<tr><td>2028</td><td> 599170.4</td><td> 9395.241</td></tr>\n",
       "\t<tr><td>2029</td><td> 838838.5</td><td> 7516.193</td></tr>\n",
       "\t<tr><td>2030</td><td>1174373.9</td><td> 6012.954</td></tr>\n",
       "</tbody>\n",
       "</table>\n"
      ],
      "text/latex": [
       "A data.frame: 12 × 3\n",
       "\\begin{tabular}{lll}\n",
       " year & phil & loic\\\\\n",
       " <int> & <dbl> & <dbl>\\\\\n",
       "\\hline\n",
       "\t 2019 &   29000.0 & 70000.000\\\\\n",
       "\t 2020 &   40600.0 & 56000.000\\\\\n",
       "\t 2021 &   56840.0 & 44800.000\\\\\n",
       "\t 2022 &   79576.0 & 35840.000\\\\\n",
       "\t 2023 &  111406.4 & 28672.000\\\\\n",
       "\t 2024 &  155969.0 & 22937.600\\\\\n",
       "\t 2025 &  218356.5 & 18350.080\\\\\n",
       "\t 2026 &  305699.2 & 14680.064\\\\\n",
       "\t 2027 &  427978.8 & 11744.051\\\\\n",
       "\t 2028 &  599170.4 &  9395.241\\\\\n",
       "\t 2029 &  838838.5 &  7516.193\\\\\n",
       "\t 2030 & 1174373.9 &  6012.954\\\\\n",
       "\\end{tabular}\n"
      ],
      "text/markdown": [
       "\n",
       "A data.frame: 12 × 3\n",
       "\n",
       "| year &lt;int&gt; | phil &lt;dbl&gt; | loic &lt;dbl&gt; |\n",
       "|---|---|---|\n",
       "| 2019 |   29000.0 | 70000.000 |\n",
       "| 2020 |   40600.0 | 56000.000 |\n",
       "| 2021 |   56840.0 | 44800.000 |\n",
       "| 2022 |   79576.0 | 35840.000 |\n",
       "| 2023 |  111406.4 | 28672.000 |\n",
       "| 2024 |  155969.0 | 22937.600 |\n",
       "| 2025 |  218356.5 | 18350.080 |\n",
       "| 2026 |  305699.2 | 14680.064 |\n",
       "| 2027 |  427978.8 | 11744.051 |\n",
       "| 2028 |  599170.4 |  9395.241 |\n",
       "| 2029 |  838838.5 |  7516.193 |\n",
       "| 2030 | 1174373.9 |  6012.954 |\n",
       "\n"
      ],
      "text/plain": [
       "   year phil      loic     \n",
       "1  2019   29000.0 70000.000\n",
       "2  2020   40600.0 56000.000\n",
       "3  2021   56840.0 44800.000\n",
       "4  2022   79576.0 35840.000\n",
       "5  2023  111406.4 28672.000\n",
       "6  2024  155969.0 22937.600\n",
       "7  2025  218356.5 18350.080\n",
       "8  2026  305699.2 14680.064\n",
       "9  2027  427978.8 11744.051\n",
       "10 2028  599170.4  9395.241\n",
       "11 2029  838838.5  7516.193\n",
       "12 2030 1174373.9  6012.954"
      ]
     },
     "metadata": {},
     "output_type": "display_data"
    },
    {
     "data": {
      "image/png": "[encoded data removed]",
      "text/plain": [
       "Plot with title “Ideal CfEY salary structure, 2019-2030”"
      ]
     },
     "metadata": {
      "image/png": {
       "height": 420,
       "width": 420
      },
      "text/plain": {
       "height": 420,
       "width": 420
      }
     },
     "output_type": "display_data"
    }
   ],
   "source": [
    "# Construct the data frame we'll be using\n",
    "# Notice how we're doing this programmatically - we're modelling salary\n",
    "# changes using maths, rather than just reading from a big data table\n",
    "salaries <- data.frame(\n",
    "  year = 2019:2030,\n",
    "  phil = 29000 * 1.4^(0:(length(2019:2030)-1)),\n",
    "  loic = 70000 * 0.8^(0:(length(2019:2030)-1))  # Obviously Loic will\n",
    ")                                               # selflessly take a 20%\n",
    "                                                # annual pay cut to fund\n",
    "                                                # his favourite employee\n",
    "\n",
    "# Show the table\n",
    "salaries\n",
    "\n",
    "\n",
    "# Plot Phil's salary to begin with\n",
    "plot(salaries$year, # x component - R can't infer the x axis like last time\n",
    "     salaries$phil, # y component\n",
    "     pch  = 4,\n",
    "     type = \"o\",\n",
    "     main = \"Ideal CfEY salary structure, 2019-2030\",\n",
    "     xlab = \"Year\",\n",
    "     ylab = \"Salary / £\",\n",
    "     xlim = c(2019,2030.25), # Specify slightly wider x limit\n",
    "     ylim = c(0, 10000 * (ceiling(max(salaries) / 10000) + 3)), # Specify slightly taller y limit\n",
    "     col  = \"red\")  # Specify colour\n",
    "\n",
    "# Add a second series of points to the plot (Loic's salary)\n",
    "points(salaries$year,\n",
    "       salaries$loic,\n",
    "       pch = 20,\n",
    "       col = \"blue\")\n",
    "\n",
    "# Add a second line to the plot (Loic's salary)\n",
    "lines(salaries$year,\n",
    "      salaries$loic,\n",
    "      col = \"blue\")\n",
    "\n",
    "# Add some text at coordinates (2025, 700000)\n",
    "text(2024,\n",
    "     700000,\n",
    "     \"This is fair and justified and\\n requires immediate implementation\") # \\n means \"put a new line here\"\n",
    "                                                                           # - it's a bit like pressing Enter\n",
    "\n",
    "# Add a legend at coordinates (2019, 1150000)\n",
    "legend(2019,\n",
    "       1200000,\n",
    "       c(\"Phil\", \"Loic\"),\n",
    "       col = c(\"red\", \"blue\"),\n",
    "       pch = c(4, 20))\n",
    "\n",
    "# If we're canny, we can even use a programmatic solution to\n",
    "# save ourselves some typing when we need to add a few things\n",
    "\n",
    "# Add data labels to Phil's series\n",
    "for(i in 1:length(salaries$phil)) {\n",
    "  text(salaries[i, \"year\"],\n",
    "       salaries[i, \"phil\"] + 50000, # Make sure each label is slightly above each data point\n",
    "       paste0(\"£\",round(salaries[i, \"phil\"] / 1000),\"k\")) # Divide each number by 1000,\n",
    "}                                                         # round it and add the \"k\" suffix"
   ]
  },
  {
   "cell_type": "markdown",
   "metadata": {},
   "source": [
    "Using these separate functions to add extra bits to the plot isn't the only way to do it &ndash; `plot` and friends do include some optional arguments such as `legend` to add stuff inside the main call to `plot` &ndash; but it is the more flexible way to build up a complex graphic.  If you want to learn more about those optional arguments, check out the documentation for `plot` by calling `?plot` in the interpreter.\n",
    "\n",
    "As you can see, this is a bit more complicated than just opening up Excel and banging out a simple chart, but the advantages here are that lots more customisation possibilities are opened up, and that we can tell it do things **programmatically**, like we did with the fancy data labels in the example above.\n",
    "\n",
    "`barplot` and `pie` follow similar principles, but we'll have some examples below to make it really clear."
   ]
  },
  {
   "cell_type": "markdown",
   "metadata": {},
   "source": [
    "### 6.2 `barplot`"
   ]
  },
  {
   "cell_type": "markdown",
   "metadata": {},
   "source": [
    "We've already seen a lot of the basic principles in the `plot` example above, but let's keep going with some other types of charts.  To plot a bar chart, we use the function `barplot`.  Let's see a simple example first, and make sure to **read the comments** so that you know what the code is doing."
   ]
  },
  {
   "cell_type": "code",
   "execution_count": 61,
   "metadata": {},
   "outputs": [
    {
     "data": {
      "text/html": [
       "<table>\n",
       "<caption>A data.frame: 10 × 2</caption>\n",
       "<thead>\n",
       "\t<tr><th></th><th scope=col>ngrams</th><th scope=col>freq</th></tr>\n",
       "\t<tr><th></th><th scope=col>&lt;chr&gt;</th><th scope=col>&lt;int&gt;</th></tr>\n",
       "</thead>\n",
       "<tbody>\n",
       "\t<tr><th scope=row>1</th><td>dame más      </td><td>12</td></tr>\n",
       "\t<tr><th scope=row>2</th><td>la gasolina   </td><td>12</td></tr>\n",
       "\t<tr><th scope=row>3</th><td>más gasolina  </td><td>12</td></tr>\n",
       "\t<tr><th scope=row>4</th><td>gasolina dame </td><td>12</td></tr>\n",
       "\t<tr><th scope=row>5</th><td>pa' que       </td><td> 8</td></tr>\n",
       "\t<tr><th scope=row>6</th><td>que mis       </td><td> 6</td></tr>\n",
       "\t<tr><th scope=row>7</th><td>los motore'   </td><td> 6</td></tr>\n",
       "\t<tr><th scope=row>8</th><td>gusta la      </td><td> 6</td></tr>\n",
       "\t<tr><th scope=row>9</th><td>le encanta    </td><td> 6</td></tr>\n",
       "\t<tr><th scope=row>10</th><td>gatas prendan </td><td> 6</td></tr>\n",
       "</tbody>\n",
       "</table>\n"
      ],
      "text/latex": [
       "A data.frame: 10 × 2\n",
       "\\begin{tabular}{r|ll}\n",
       "  & ngrams & freq\\\\\n",
       "  & <chr> & <int>\\\\\n",
       "\\hline\n",
       "\t1 & dame más       & 12\\\\\n",
       "\t2 & la gasolina    & 12\\\\\n",
       "\t3 & más gasolina   & 12\\\\\n",
       "\t4 & gasolina dame  & 12\\\\\n",
       "\t5 & pa' que        &  8\\\\\n",
       "\t6 & que mis        &  6\\\\\n",
       "\t7 & los motore'    &  6\\\\\n",
       "\t8 & gusta la       &  6\\\\\n",
       "\t9 & le encanta     &  6\\\\\n",
       "\t10 & gatas prendan  &  6\\\\\n",
       "\\end{tabular}\n"
      ],
      "text/markdown": [
       "\n",
       "A data.frame: 10 × 2\n",
       "\n",
       "| <!--/--> | ngrams &lt;chr&gt; | freq &lt;int&gt; |\n",
       "|---|---|---|\n",
       "| 1 | dame más       | 12 |\n",
       "| 2 | la gasolina    | 12 |\n",
       "| 3 | más gasolina   | 12 |\n",
       "| 4 | gasolina dame  | 12 |\n",
       "| 5 | pa' que        |  8 |\n",
       "| 6 | que mis        |  6 |\n",
       "| 7 | los motore'    |  6 |\n",
       "| 8 | gusta la       |  6 |\n",
       "| 9 | le encanta     |  6 |\n",
       "| 10 | gatas prendan  |  6 |\n",
       "\n"
      ],
      "text/plain": [
       "   ngrams         freq\n",
       "1  dame más       12  \n",
       "2  la gasolina    12  \n",
       "3  más gasolina   12  \n",
       "4  gasolina dame  12  \n",
       "5  pa' que         8  \n",
       "6  que mis         6  \n",
       "7  los motore'     6  \n",
       "8  gusta la        6  \n",
       "9  le encanta      6  \n",
       "10 gatas prendan   6  "
      ]
     },
     "metadata": {},
     "output_type": "display_data"
    },
    {
     "data": {
      "image/png": "[encoded data removed]",
      "text/plain": [
       "Plot with title “Most common two-word phrases in Daddy Yankee's 'Gasolina'”"
      ]
     },
     "metadata": {
      "image/png": {
       "height": 420,
       "width": 420
      },
      "text/plain": {
       "height": 420,
       "width": 420
      }
     },
     "output_type": "display_data"
    }
   ],
   "source": [
    "######################################################################\n",
    "# WARNING: FRIVOLOUS EXAMPLE ALERT                                   #\n",
    "# (If you want to know how to get the most common two-word phrases   #\n",
    "#  in a text, then this will be great for you.  If not, just skip to #\n",
    "#  the barplot bit below)                                            #\n",
    "######################################################################\n",
    "\n",
    "gasolina <- readChar(\"gasolina.txt\", 1000000)         # Read in a text file (overestimate that\n",
    "                                                      # it's 1,000,000 characters long)\n",
    "\n",
    "gasolina <- gsub(\"\\\\(\", \"\", gasolina) # Remove punctuation\n",
    "gasolina <- gsub(\"\\\\)\", \"\", gasolina)\n",
    "gasolina <- gsub(\"¡\", \"\", gasolina)\n",
    "gasolina <- gsub(\"!\", \"\", gasolina)\n",
    "gasolina <- gsub(\"?\", \"\", gasolina)\n",
    "gasolina <- gsub('\"', \"\", gasolina)\n",
    "gasolina <- gsub(\"\\n\", \" \", gasolina)   # Replace newlines with spaces\n",
    "gasolina <- tolower(gasolina)         # Make it all lowercase\n",
    "\n",
    "library(ngram)                           # Load the ngram library (for text mining)\n",
    "ng2 <- ngram(gasolina, n = 2)            # Count frequencies of two-word phrases\n",
    "topTen <- get.phrasetable(ng2)[1:10,1:2] # Get a data frame of the top ten two-word phrases\n",
    "\n",
    "######################################################################\n",
    "# END OF FRIVOLOUS EXAMPLE                                           #\n",
    "######################################################################\n",
    "\n",
    "topTen # Show the table\n",
    "\n",
    "par(cex = 0.8) # Make the font smaller\n",
    "\n",
    "barplot(topTen$freq,                                # Data (bar heights)\n",
    "        names.arg = gsub(\" \", \"\\n\", topTen$ngrams), # x-axis labels, replacing spaces in the labels with newlines\n",
    "        las       = 2,                              # Rotate x axis labels\n",
    "        xpd       = TRUE,                           # Allow plotting outside normal area (more space for long labels)\n",
    "        main      = \"Most common two-word phrases in Daddy Yankee's 'Gasolina'\")"
   ]
  },
  {
   "cell_type": "markdown",
   "metadata": {},
   "source": [
    "> _**N.B.:** It's also possible to give `barplot` a vector of bar widths by using the optional argument `width`, if you need to make a histogram.  See `?barplot` for more information!_\n",
    "\n",
    "So far, so good.  But, again, what about if we needed to compare multiple series?"
   ]
  },
  {
   "cell_type": "code",
   "execution_count": 62,
   "metadata": {},
   "outputs": [
    {
     "data": {
      "text/html": [
       "<table>\n",
       "<caption>A matrix: 2 × 3 of type int</caption>\n",
       "<thead>\n",
       "\t<tr><th></th><th scope=col>Positive</th><th scope=col>Neutral</th><th scope=col>Negative</th></tr>\n",
       "</thead>\n",
       "<tbody>\n",
       "\t<tr><th scope=row>Loic</th><td>10</td><td>6</td><td>4</td></tr>\n",
       "\t<tr><th scope=row>Kate</th><td>16</td><td>2</td><td>2</td></tr>\n",
       "</tbody>\n",
       "</table>\n"
      ],
      "text/latex": [
       "A matrix: 2 × 3 of type int\n",
       "\\begin{tabular}{r|lll}\n",
       "  & Positive & Neutral & Negative\\\\\n",
       "\\hline\n",
       "\tLoic & 10 & 6 & 4\\\\\n",
       "\tKate & 16 & 2 & 2\\\\\n",
       "\\end{tabular}\n"
      ],
      "text/markdown": [
       "\n",
       "A matrix: 2 × 3 of type int\n",
       "\n",
       "| <!--/--> | Positive | Neutral | Negative |\n",
       "|---|---|---|---|\n",
       "| Loic | 10 | 6 | 4 |\n",
       "| Kate | 16 | 2 | 2 |\n",
       "\n"
      ],
      "text/plain": [
       "     Positive Neutral Negative\n",
       "Loic 10       6       4       \n",
       "Kate 16       2       2       "
      ]
     },
     "metadata": {},
     "output_type": "display_data"
    },
    {
     "data": {
      "image/png": "[encoded data removed]",
      "text/plain": [
       "Plot with title “Very rough sentiment analysis of recent Tweets”"
      ]
     },
     "metadata": {
      "image/png": {
       "height": 420,
       "width": 420
      },
      "text/plain": {
       "height": 420,
       "width": 420
      }
     },
     "output_type": "display_data"
    }
   ],
   "source": [
    "######################################################################\n",
    "# WARNING: FRIVOLOUS EXAMPLE ALERT                                   #\n",
    "# (If you want to know how to do sentiment analysis, then this will  #\n",
    "# be great for you.  If not, just skip to the barplot bit below)     #\n",
    "######################################################################\n",
    "\n",
    "# Suppress QDAP warnings for neatness\n",
    "options(warn=-1)\n",
    "\n",
    "# Read in a CSV of Loic and Kate's 20 most recent tweets as of 2020-04-21 15:14\n",
    "tweets <- read.csv(\"tweets.csv\")\n",
    "\n",
    "# Return whether a string s is broadly positive, negative or neutral\n",
    "# This uses a couple of functions from the QDAP library to do the actual\n",
    "# sentiment analysis\n",
    "getPosNeg <- function(s) {\n",
    "  sComb <- qdap::sentCombine(s)$text.var                         # Prepare s for analysis\n",
    "  p <- qdap::polarity(sComb)$all$polarity                        # Get the polarity score for s (-1 to +1)\n",
    "  if(p > 0) \"Positive\" else if (p < 0) \"Negative\" else \"Neutral\" # Categorise very roughly into\n",
    "}                                                                # positive, negative and neutral\n",
    "\n",
    "# Turn each person's tweets into \"Positive\", \"Negative\" or \"Neutral\"\n",
    "tweets$Loic <- sapply(tweets$Loic, getPosNeg)\n",
    "tweets$Kate <- sapply(tweets$Kate, getPosNeg)\n",
    "\n",
    "# Turn warnings back on\n",
    "options(warn=0)\n",
    "\n",
    "# Use table to count instances of \"Positive\", \"Negative\" and \"Neutral\",\n",
    "# and then rbind them into a data.frame with nice row names\n",
    "counts <- rbind(table(tweets$Loic),\n",
    "                table(tweets$Kate))\n",
    "rownames(counts) <- c(\"Loic\", \"Kate\")\n",
    "    \n",
    "# Reorder table to go \"Positive\", \"Neutral\", \"Negative\"\n",
    "counts <- counts[, c(3, 2, 1)]\n",
    "\n",
    "######################################################################\n",
    "# END OF FRIVOLOUS EXAMPLE                                           #\n",
    "######################################################################\n",
    "\n",
    "counts # Show the table\n",
    "\n",
    "cfeyCols <- c(\"#95647E\", \"#E07A0B\") # Define CfEY colours\n",
    "    \n",
    "# Plot a bar chart\n",
    "barplot(counts,                       # Data (two rows of tweet counts)\n",
    "        col = cfeyCols,               # Use CfEY colours\n",
    "        main = \"Very rough sentiment analysis of recent Tweets\",\n",
    "        ylab = \"Number of tweets\",\n",
    "        ylim = c(0, max(counts) + 5), # Set a higher y limit\n",
    "        beside = TRUE)                # Bars beside to each other, not stacked\n",
    "\n",
    "# Add a legend at coordinates (8, 19)\n",
    "legend(8,\n",
    "       19,\n",
    "       rownames(counts), # Use the row names as the data is already formatted and labelled quite nicely\n",
    "       col = cfeyCols,\n",
    "       pch = 15)         # Use little squares for the symbols"
   ]
  },
  {
   "cell_type": "markdown",
   "metadata": {},
   "source": [
    "**Great!**  Another one bites the dust.  Just `pie` and `par` left to look at, and then we're pretty much done with this course!"
   ]
  },
  {
   "cell_type": "markdown",
   "metadata": {},
   "source": [
    "### 6.3 `pie`"
   ]
  },
  {
   "cell_type": "markdown",
   "metadata": {},
   "source": [
    "As you might expect, `pie` plots pie charts.  It takes in data, performs a count of unique elements, and draws a pie chart showing the proportion contributed by each unique element.\n",
    "\n",
    "Let's reuse the Twitter data from the second `barplot` example."
   ]
  },
  {
   "cell_type": "code",
   "execution_count": 63,
   "metadata": {},
   "outputs": [
    {
     "data": {
      "text/html": [
       "<table>\n",
       "<caption>A matrix: 2 × 3 of type int</caption>\n",
       "<thead>\n",
       "\t<tr><th></th><th scope=col>Positive</th><th scope=col>Neutral</th><th scope=col>Negative</th></tr>\n",
       "</thead>\n",
       "<tbody>\n",
       "\t<tr><th scope=row>Loic</th><td>10</td><td>6</td><td>4</td></tr>\n",
       "\t<tr><th scope=row>Kate</th><td>16</td><td>2</td><td>2</td></tr>\n",
       "</tbody>\n",
       "</table>\n"
      ],
      "text/latex": [
       "A matrix: 2 × 3 of type int\n",
       "\\begin{tabular}{r|lll}\n",
       "  & Positive & Neutral & Negative\\\\\n",
       "\\hline\n",
       "\tLoic & 10 & 6 & 4\\\\\n",
       "\tKate & 16 & 2 & 2\\\\\n",
       "\\end{tabular}\n"
      ],
      "text/markdown": [
       "\n",
       "A matrix: 2 × 3 of type int\n",
       "\n",
       "| <!--/--> | Positive | Neutral | Negative |\n",
       "|---|---|---|---|\n",
       "| Loic | 10 | 6 | 4 |\n",
       "| Kate | 16 | 2 | 2 |\n",
       "\n"
      ],
      "text/plain": [
       "     Positive Neutral Negative\n",
       "Loic 10       6       4       \n",
       "Kate 16       2       2       "
      ]
     },
     "metadata": {},
     "output_type": "display_data"
    },
    {
     "data": {
      "image/png": "[encoded data removed]",
      "text/plain": [
       "Plot with title “Sentiment of Loic's 20 most recent Tweets”"
      ]
     },
     "metadata": {
      "image/png": {
       "height": 420,
       "width": 420
      },
      "text/plain": {
       "height": 420,
       "width": 420
      }
     },
     "output_type": "display_data"
    },
    {
     "data": {
      "image/png": "[encoded data removed]",
      "text/plain": [
       "Plot with title “Sentiment of Kate's 20 most recent Tweets”"
      ]
     },
     "metadata": {
      "image/png": {
       "height": 420,
       "width": 420
      },
      "text/plain": {
       "height": 420,
       "width": 420
      }
     },
     "output_type": "display_data"
    }
   ],
   "source": [
    "# Show the table from the previous example\n",
    "counts\n",
    "\n",
    "# Define CfEY colours\n",
    "cfeyCols <- c(\"#95647E\", \"#777983\", \"#E07A0B\")\n",
    "\n",
    "# Define a style of pie chart that we like as a function\n",
    "# so that we don't have to type it out multiple times\n",
    "nicePieChart <- function(name, data) {\n",
    "  pie(data,\n",
    "      main = paste0(\"Sentiment of \", name, \"'s 20 most recent Tweets\"),\n",
    "      col = cfeyCols)\n",
    "}\n",
    "\n",
    "nicePieChart(\"Loic\",counts[1,]) # Make a nice pie chart for Loic's data\n",
    "nicePieChart(\"Kate\",counts[2,]) # Make a nice pie chart for Kate's data"
   ]
  },
  {
   "cell_type": "markdown",
   "metadata": {},
   "source": [
    "We won't spend too long on pie charts as there's really not that much to them.  There are other options you can provide to them, as detailed in `?pie`, but ultimately, they're just not that exciting.  Amusingly, the official R documentation lays into pie charts pretty viciously:\n",
    "\n",
    "> \"Pie charts are a very bad way of displaying information.  The eye is good at judging linear measures and bad at judging relative areas.  A bar chart or dot chart is a preferable way of displaying this type of data.\"\n",
    "\n",
    "**We're nearly there!**  You've now covered a few types of charts that you can draw using R.  There are others available both in the base language and in many other packages, but these should be enough to cover most of the cases we encounter regularly in our line of work.  We'll take a quick look at `par`, which provides access to graphics options, and then you've finished all of the actual learning about programming in this course!"
   ]
  },
  {
   "cell_type": "markdown",
   "metadata": {},
   "source": [
    "### 6.4 `par`"
   ]
  },
  {
   "cell_type": "markdown",
   "metadata": {},
   "source": [
    "`par` is an odd one.  It provides a way of setting various generic graphics options that affect what your plots will look like, covering things like font size and plot margins.  The best way to explain it is to see it in action:&ndash;"
   ]
  },
  {
   "cell_type": "code",
   "execution_count": 64,
   "metadata": {},
   "outputs": [
    {
     "data": {
      "image/png": "[encoded data removed]",
      "text/plain": [
       "Plot with title “par(cex = 1.4)”"
      ]
     },
     "metadata": {
      "image/png": {
       "height": 420,
       "width": 420
      },
      "text/plain": {
       "height": 420,
       "width": 420
      }
     },
     "output_type": "display_data"
    },
    {
     "data": {
      "image/png": "[encoded data removed]",
      "text/plain": [
       "Plot with title “par(las = 2)”"
      ]
     },
     "metadata": {
      "image/png": {
       "height": 420,
       "width": 420
      },
      "text/plain": {
       "height": 420,
       "width": 420
      }
     },
     "output_type": "display_data"
    },
    {
     "data": {
      "image/png": "[encoded data removed]",
      "text/plain": [
       "Plot with title “par(bg = \"green\")”"
      ]
     },
     "metadata": {
      "image/png": {
       "height": 420,
       "width": 420
      },
      "text/plain": {
       "height": 420,
       "width": 420
      }
     },
     "output_type": "display_data"
    }
   ],
   "source": [
    "######################################################################\n",
    "# Regenerate the plot from the second barplot example                #\n",
    "######################################################################\n",
    "\n",
    "testPlot <- function(t) {\n",
    "  cfeyCols <- c(\"#95647E\", \"#E07A0B\") # Define CfEY colours\n",
    "    \n",
    "  # Plot a bar chart\n",
    "  barplot(counts,                       # Data (two rows of tweet counts)\n",
    "          col = cfeyCols,               # Use CfEY colours\n",
    "          main = t,\n",
    "          ylab = \"Number of tweets\",\n",
    "          ylim = c(0, max(counts) + 5), # Set a higher y limit\n",
    "          beside = TRUE)                # Bars beside to each other, not stacked\n",
    "\n",
    "  # Add a legend at coordinates (8, 19)\n",
    "  legend(8,\n",
    "         19,\n",
    "         rownames(counts), # Use the row names as the data is already formatted and labelled quite nicely\n",
    "         col = cfeyCols,\n",
    "         pch = 15)         # Use little squares for the symbols\n",
    "}\n",
    "\n",
    "######################################################################\n",
    "\n",
    "# Set graphics options and replot\n",
    "par(cex = 1.4,   # Set font size to 140%\n",
    "    xpd = TRUE)   # Allow plotting outside normal area\n",
    "testPlot(\"par(cex = 1.4)\")\n",
    "         \n",
    "par(las = 2,      # Rotate all the axis labels\n",
    "    cex = 1)      # Reset font size from before\n",
    "testPlot(\"par(las = 2)\")\n",
    "\n",
    "par(bg = \"green\", # Use a green background\n",
    "    las = 0)      # Reset label rotation from before\n",
    "testPlot('par(bg = \"green\")')"
   ]
  },
  {
   "cell_type": "markdown",
   "metadata": {},
   "source": [
    "`par` doesn't just have to apply to whole plots, either; you can call it just before one of the additional funcions like `text` or `legend` to just affect them.\n",
    "\n",
    "> _**N.B.:** Bear in mind that each call to `par` will affect subsequent drawing operations, so you'll need to reset options that you change if you want them only to apply to one part of your plot._"
   ]
  },
  {
   "cell_type": "code",
   "execution_count": 65,
   "metadata": {},
   "outputs": [
    {
     "data": {
      "image/png": "[encoded data removed]",
      "text/plain": [
       "Plot with title “Using par on additional graphics operations”"
      ]
     },
     "metadata": {
      "image/png": {
       "height": 420,
       "width": 420
      },
      "text/plain": {
       "height": 420,
       "width": 420
      }
     },
     "output_type": "display_data"
    }
   ],
   "source": [
    "testPlot(\"Using par on additional graphics operations\")\n",
    "\n",
    "par(cex = 6) # Set the font size to 600%\n",
    "\n",
    "text(6,\n",
    "     10,\n",
    "     \"BIG TEXT\")\n",
    "\n",
    "par(cex = 1) # Remember to reset it if you don't\n",
    "             # want it to keep happening\n",
    "text(6,\n",
    "     7,\n",
    "     \"not big text\")"
   ]
  },
  {
   "cell_type": "markdown",
   "metadata": {},
   "source": [
    "Your best bet for learning about the myriad things that `par` can do is to take a good look at the documentation in `?par`.  Essentially, if you're trying to change something about your plot and you can't find it in the options for the plotting function you're using, have a look and see if it's something that `par` can do.\n",
    "\n",
    "---\n",
    "\n",
    "_**Congratulations!**_  You've made it through all of the programming content in this course!  I'm so proud of you for sticking with it this far.  You're now ready to go out and start hacking away with R.  But before I let you go, there's one more thing that's worth addressing, and that's how to steal other people's work.  Don't worry, it's not only acceptable but also _expected_ of programmers to do this.  Let's go!"
   ]
  },
  {
   "cell_type": "markdown",
   "metadata": {},
   "source": [
    "[_(Back to top)_](#Basic-R-from-scratch)\n",
    "\n",
    "---"
   ]
  },
  {
   "cell_type": "markdown",
   "metadata": {},
   "source": [
    "## 7 Getting other people to do all the hard work for you (a.k.a. 'using packages')"
   ]
  },
  {
   "cell_type": "markdown",
   "metadata": {},
   "source": [
    "Now that we know how horrendous programming actually is, we will of course want to avoid doing as much of it as possible.  Luckily (as I mentioned above), as R is so popular, most of the problems that you might ever want to solve have probably already been solved by a much more competent programmer than you or I.\n",
    "\n",
    "You might have noticed me call functions like `qdap::polarity`, or make calls to e.g. `library(openxlsx)` to load in some extra code.  Both `library` and `::` tell R to load in bits of code that other people have contributed that are not part of the base R language.  These bits of code are called `packages`, and they greatly expand what we're able to do with R.\n",
    "\n",
    "The R developers maintain a public directory of approved packages called [CRAN](https://cran.r-project.org) (the _Comprehensive R Archive Network_), which we can access from inside R at any time.\n",
    "\n",
    "Let's say you want to use R to do a study that uses Q Methodology.  You don't want to write a whole load of code to do that, so you find out, either by using Google or by using `??`, that the package `qmethod` exists (and its documentation is [here](https://cran.r-project.org/web/packages/qmethod/qmethod.pdf), explaining everything that it can do).  To use the new package, we first need to **install** it.  Luckily, this is very easy.  From the R interpreter, we simply call:\n",
    "\n",
    "```r\n",
    "install.packages(\"qmethod\")\n",
    "```\n",
    "\n",
    "> _**N.B.:** Notice how the package name is a **string**, and needs to be in `\"`&hellip;`\"`._\n",
    "\n",
    "The R interpreter will then display a lot of text to tell you what it's doing while it installs the package, and will eventually return input to you when the normal `>` prompt comes back.  Great!  `qmethod` has now been installed.  But how do we use it?\n",
    "\n",
    "To load in all of the functions provided by a package, we just have to make a call to `library`, like so:\n",
    "\n",
    "```r\n",
    "library(\"qmethod\")\n",
    "```\n",
    "\n",
    "This will give us free access to everything that `qmethod` provides.  This is great, but what if we only need one or two functions from a package?  It would be pretty wasteful (not to mention slow) to use up loads and loads of extra memory just to load in a package.  In this case, we use the `::` operator to tell R just to access the one function we need.\n",
    "\n",
    "You probably remember this from earlier, when I called `openxlsx::read.xlsx` to read in Excel files.  I didn't need all of the complicated Excel functions that the `openxlsx` package provides; I just needed `read.xlsx`, so it was much more efficient to just call `openxlsx::read.xlsx` a couple of times, rather than loading in the whole package.\n",
    "\n",
    "---\n",
    "\n",
    "**And that's it!**  Really this time.  This is the end of the course.  You now know everything you need to know to get started doing data analysis in R.  Of course, the best way to develop a skill is to use it, so get yourself out there and hack, hack, hack away!  Remember that you would have to try _really, really hard_ to break the computer, so don't be scared to give it a go.  **Happy hacking!**"
   ]
  },
  {
   "cell_type": "markdown",
   "metadata": {},
   "source": [
    "[_(Back to top)_](#Basic-R-from-scratch)\n",
    "\n",
    "---"
   ]
  },
  {
   "cell_type": "markdown",
   "metadata": {},
   "source": [
    "## 8 Appendix: Other exciting things that you can do with R"
   ]
  },
  {
   "cell_type": "markdown",
   "metadata": {},
   "source": [
    "There are thousands of R packages available, but here a few neat ones that you might want to look into.  A good way to learn a new package is to read the documentation that comes with it, but also to Google e.g. \"R shiny tutorial\".  Just as many people have written code for us to use, plenty of helpful souls (often the package developers) have also written or filmed us lovely tutorials to introduce various packages to us.\n",
    "\n",
    "- [Shiny](https://shiny.rstudio.com) provides a framework for developing Web apps based on R code, allowing for the development of data dashboards and interactive infographics\n",
    "- [RMarkdown](https://rmarkdown.rstudio.com) allows you to produce beautiful documents that combine text, code and graphics from inside RStudio\n",
    "- [Bookdown](https://bookdown.org) and [Blogdown](https://bookdown.org/yihui/blogdown/) use RMarkdown to generate paper and Web books, and blog content\n",
    "- [`tm`](https://cran.r-project.org/web/packages/tm/index.html) provides many functions for text mining and language analysis\n",
    "- [`wordcloud`](https://cran.r-project.org/web/packages/wordcloud/index.html) builds on `tm` to generate wordclouds\n",
    "- [`QCA`](https://cran.r-project.org/web/packages/QCA/index.html) implements Qualitative Comparative Analysis, alongside a neat graphical Web interface for conducting QCA on your data visually\n",
    "- [`qmethod`](https://cran.r-project.org/web/packages/qmethod/index.html) implements Q Methodology\n",
    "\n",
    "Of course, this list barely scratches the surface.  There's a whole galaxy of R content out there, so go and explore it!"
   ]
  },
  {
   "cell_type": "markdown",
   "metadata": {},
   "source": [
    "[_(Back to top)_](#Basic-R-from-scratch)"
   ]
  },
  {
   "cell_type": "markdown",
   "metadata": {},
   "source": [
    "---\n",
    "\n",
    "<a rel=\"license\" href=\"http://creativecommons.org/licenses/by-nc-sa/4.0/\"><img alt=\"Creative Commons Licence\" style=\"border-width:0\" src=\"https://i.creativecommons.org/l/by-nc-sa/4.0/88x31.png\" /></a><br />This document is licensed under a <a rel=\"license\" href=\"http://creativecommons.org/licenses/by-nc-sa/4.0/\">Creative Commons Attribution-NonCommercial-ShareAlike 4.0 International License</a>.\n",
    "\n",
    "<a rel=\"license\" href=\"http://www.wtfpl.net/txt/copying/\"><img style=\"height: 31px;\" alt=\"WTFPL\" style=\"border-width:0\" src=\"https://duckduckgo.com/i/c0ea7ccc.png\" /></a><br />All R code examples in this work are licensed under the <a rel=\"license\" href=\"http://www.wtfpl.net/txt/copying/\">WTFPL</a>.\n",
    "\n",
    "---"
   ]
  }
 ],
 "metadata": {
  "kernelspec": {
   "display_name": "R",
   "language": "R",
   "name": "ir"
  },
  "language_info": {
   "codemirror_mode": "r",
   "file_extension": ".r",
   "mimetype": "text/x-r-source",
   "name": "R",
   "pygments_lexer": "r",
   "version": "3.6.3"
  }
 },
 "nbformat": 4,
 "nbformat_minor": 2
}
